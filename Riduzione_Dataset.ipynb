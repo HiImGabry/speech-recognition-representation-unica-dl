{
 "cells": [
  {
   "cell_type": "markdown",
   "metadata": {
    "id": "gaJE0Su5tMoq"
   },
   "source": [
    "Riduzione del dataset"
   ]
  },
  {
   "cell_type": "code",
   "execution_count": null,
   "metadata": {},
   "outputs": [],
   "source": [
    "!pip install tensorflow\n",
    "!pip install numpy"
   ]
  },
  {
   "cell_type": "code",
   "execution_count": 65,
   "metadata": {},
   "outputs": [],
   "source": [
    "import tensorflow as tf\n",
    "import numpy as np"
   ]
  },
  {
   "cell_type": "code",
   "execution_count": 61,
   "metadata": {},
   "outputs": [
    {
     "name": "stdout",
     "output_type": "stream",
     "text": [
      "Found 64721 files belonging to 30 classes.\n"
     ]
    }
   ],
   "source": [
    "train_ds = tf.keras.utils.audio_dataset_from_directory(directory='../original/train/audio')"
   ]
  },
  {
   "cell_type": "code",
   "execution_count": 62,
   "metadata": {},
   "outputs": [
    {
     "name": "stdout",
     "output_type": "stream",
     "text": [
      "Classi: ['bed', 'bird', 'cat', 'dog', 'down', 'eight', 'five', 'four', 'go', 'happy', 'house', 'left', 'marvin', 'nine', 'no', 'off', 'on', 'one', 'right', 'seven', 'sheila', 'six', 'stop', 'three', 'tree', 'two', 'up', 'wow', 'yes', 'zero']\n"
     ]
    }
   ],
   "source": [
    "print('Classi:',train_ds.class_names)"
   ]
  },
  {
   "cell_type": "code",
   "execution_count": 85,
   "metadata": {},
   "outputs": [
    {
     "name": "stdout",
     "output_type": "stream",
     "text": [
      "[1713. 1731. 1733. 1746. 2359. 2352. 2357. 2372. 2372. 1742. 1750. 2353.\n",
      " 1746. 2364. 2375. 2357. 2367. 2370. 2367. 2377. 1734. 2369. 2380. 2356.\n",
      " 1733. 2373. 2375. 1745. 2377. 2376.]\n"
     ]
    },
    {
     "data": {
      "text/plain": [
       "64721.0"
      ]
     },
     "execution_count": 85,
     "metadata": {},
     "output_type": "execute_result"
    }
   ],
   "source": [
    "count = np.zeros(len(train_ds.class_names))\n",
    "for _, labels in train_ds:\n",
    "    y, _, c = tf.unique_with_counts(labels)\n",
    "    count[y.numpy()] += c.numpy()\n",
    "\n",
    "print(count)\n",
    "count.sum()"
   ]
  },
  {
   "cell_type": "code",
   "execution_count": 88,
   "metadata": {},
   "outputs": [],
   "source": [
    "import os\n",
    "import random\n",
    "import shutil"
   ]
  },
  {
   "cell_type": "code",
   "execution_count": 93,
   "metadata": {},
   "outputs": [],
   "source": [
    "def copy_files(files, src_dir, dest_dir):\n",
    "    if not os.path.exists(dest_dir):\n",
    "        os.makedirs(dest_dir)\n",
    "    for file in files:\n",
    "        shutil.copy(os.path.join(src_dir, file), os.path.join(dest_dir, file))\n",
    "\n",
    "def downsample_class(class_dir, class_name, target_dir):\n",
    "    files = os.listdir(class_dir)\n",
    "    num_files_to_keep = 300\n",
    "    files_to_keep = random.sample(files, num_files_to_keep)\n",
    "    copy_files(files_to_keep, class_dir, os.path.join(target_dir, class_name))"
   ]
  },
  {
   "cell_type": "code",
   "execution_count": 95,
   "metadata": {},
   "outputs": [],
   "source": [
    "original_dir = '../original/train/audio'\n",
    "downsampled_dir = '../reduced_dataset/train/audio'\n",
    "\n",
    "classes = [d for d in os.listdir(original_dir) if os.path.isdir(os.path.join(original_dir, d))]\n",
    "\n",
    "for class_name in classes:\n",
    "    class_dir = os.path.join(original_dir, class_name)\n",
    "    downsample_class(class_dir, class_name, downsampled_dir)"
   ]
  },
  {
   "cell_type": "code",
   "execution_count": null,
   "metadata": {},
   "outputs": [],
   "source": []
  }
 ],
 "metadata": {
  "colab": {
   "authorship_tag": "ABX9TyMnkQpgQIjQSCq/KWijIiaA",
   "include_colab_link": true,
   "provenance": []
  },
  "kernelspec": {
   "display_name": "Python 3 (ipykernel)",
   "language": "python",
   "name": "python3"
  },
  "language_info": {
   "codemirror_mode": {
    "name": "ipython",
    "version": 3
   },
   "file_extension": ".py",
   "mimetype": "text/x-python",
   "name": "python",
   "nbconvert_exporter": "python",
   "pygments_lexer": "ipython3",
   "version": "3.11.9"
  }
 },
 "nbformat": 4,
 "nbformat_minor": 4
}
