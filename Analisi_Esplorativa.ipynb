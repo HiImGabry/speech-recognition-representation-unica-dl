{
  "nbformat": 4,
  "nbformat_minor": 0,
  "metadata": {
    "colab": {
      "provenance": [],
      "mount_file_id": "1N0NDBOY7K4UHonu4yTPFDuWDg4lv9UAG",
      "authorship_tag": "ABX9TyOZwoD3sWVf5UaAsonSJXRG",
      "include_colab_link": true
    },
    "kernelspec": {
      "name": "python3",
      "display_name": "Python 3"
    },
    "language_info": {
      "name": "python"
    }
  },
  "cells": [
    {
      "cell_type": "markdown",
      "metadata": {
        "id": "view-in-github",
        "colab_type": "text"
      },
      "source": [
        "<a href=\"https://colab.research.google.com/github/HiImGabry/speech-recognition-representation-unica-dl/blob/issue-2/Analisi_Esplorativa.ipynb\" target=\"_parent\"><img src=\"https://colab.research.google.com/assets/colab-badge.svg\" alt=\"Open In Colab\"/></a>"
      ]
    },
    {
      "cell_type": "markdown",
      "source": [
        "Analisi Dataset"
      ],
      "metadata": {
        "id": "JFCupbnsMdhB"
      }
    },
    {
      "cell_type": "code",
      "execution_count": null,
      "metadata": {
        "colab": {
          "base_uri": "https://localhost:8080/",
          "height": 1000
        },
        "id": "48I1qH4WMAhO",
        "outputId": "52fffa68-fb51-4b48-fee7-d5ab54bd2afe"
      },
      "outputs": [
        {
          "output_type": "stream",
          "name": "stdout",
          "text": [
            "Collecting tensorflow==2.15\n",
            "  Using cached tensorflow-2.15.0-cp310-cp310-manylinux_2_17_x86_64.manylinux2014_x86_64.whl (475.2 MB)\n",
            "Requirement already satisfied: absl-py>=1.0.0 in /usr/local/lib/python3.10/dist-packages (from tensorflow==2.15) (1.4.0)\n",
            "Requirement already satisfied: astunparse>=1.6.0 in /usr/local/lib/python3.10/dist-packages (from tensorflow==2.15) (1.6.3)\n",
            "Requirement already satisfied: flatbuffers>=23.5.26 in /usr/local/lib/python3.10/dist-packages (from tensorflow==2.15) (24.3.25)\n",
            "Requirement already satisfied: gast!=0.5.0,!=0.5.1,!=0.5.2,>=0.2.1 in /usr/local/lib/python3.10/dist-packages (from tensorflow==2.15) (0.5.4)\n",
            "Requirement already satisfied: google-pasta>=0.1.1 in /usr/local/lib/python3.10/dist-packages (from tensorflow==2.15) (0.2.0)\n",
            "Requirement already satisfied: h5py>=2.9.0 in /usr/local/lib/python3.10/dist-packages (from tensorflow==2.15) (3.9.0)\n",
            "Requirement already satisfied: libclang>=13.0.0 in /usr/local/lib/python3.10/dist-packages (from tensorflow==2.15) (18.1.1)\n",
            "Requirement already satisfied: ml-dtypes~=0.2.0 in /usr/local/lib/python3.10/dist-packages (from tensorflow==2.15) (0.2.0)\n",
            "Collecting numpy<2.0.0,>=1.23.5 (from tensorflow==2.15)\n",
            "  Using cached numpy-1.26.4-cp310-cp310-manylinux_2_17_x86_64.manylinux2014_x86_64.whl (18.2 MB)\n",
            "Requirement already satisfied: opt-einsum>=2.3.2 in /usr/local/lib/python3.10/dist-packages (from tensorflow==2.15) (3.3.0)\n",
            "Requirement already satisfied: packaging in /usr/local/lib/python3.10/dist-packages (from tensorflow==2.15) (24.0)\n",
            "Requirement already satisfied: protobuf!=4.21.0,!=4.21.1,!=4.21.2,!=4.21.3,!=4.21.4,!=4.21.5,<5.0.0dev,>=3.20.3 in /usr/local/lib/python3.10/dist-packages (from tensorflow==2.15) (3.20.3)\n",
            "Requirement already satisfied: setuptools in /usr/local/lib/python3.10/dist-packages (from tensorflow==2.15) (67.7.2)\n",
            "Requirement already satisfied: six>=1.12.0 in /usr/local/lib/python3.10/dist-packages (from tensorflow==2.15) (1.16.0)\n",
            "Requirement already satisfied: termcolor>=1.1.0 in /usr/local/lib/python3.10/dist-packages (from tensorflow==2.15) (2.4.0)\n",
            "Requirement already satisfied: typing-extensions>=3.6.6 in /usr/local/lib/python3.10/dist-packages (from tensorflow==2.15) (4.12.1)\n",
            "Requirement already satisfied: wrapt<1.15,>=1.11.0 in /usr/local/lib/python3.10/dist-packages (from tensorflow==2.15) (1.14.1)\n",
            "Requirement already satisfied: tensorflow-io-gcs-filesystem>=0.23.1 in /usr/local/lib/python3.10/dist-packages (from tensorflow==2.15) (0.37.0)\n",
            "Requirement already satisfied: grpcio<2.0,>=1.24.3 in /usr/local/lib/python3.10/dist-packages (from tensorflow==2.15) (1.64.1)\n",
            "Collecting tensorboard<2.16,>=2.15 (from tensorflow==2.15)\n",
            "  Using cached tensorboard-2.15.2-py3-none-any.whl (5.5 MB)\n",
            "Collecting tensorflow-estimator<2.16,>=2.15.0 (from tensorflow==2.15)\n",
            "  Using cached tensorflow_estimator-2.15.0-py2.py3-none-any.whl (441 kB)\n",
            "Collecting keras<2.16,>=2.15.0 (from tensorflow==2.15)\n",
            "  Using cached keras-2.15.0-py3-none-any.whl (1.7 MB)\n",
            "Requirement already satisfied: wheel<1.0,>=0.23.0 in /usr/local/lib/python3.10/dist-packages (from astunparse>=1.6.0->tensorflow==2.15) (0.43.0)\n",
            "Requirement already satisfied: google-auth<3,>=1.6.3 in /usr/local/lib/python3.10/dist-packages (from tensorboard<2.16,>=2.15->tensorflow==2.15) (2.27.0)\n",
            "Requirement already satisfied: google-auth-oauthlib<2,>=0.5 in /usr/local/lib/python3.10/dist-packages (from tensorboard<2.16,>=2.15->tensorflow==2.15) (1.0.0)\n",
            "Requirement already satisfied: markdown>=2.6.8 in /usr/local/lib/python3.10/dist-packages (from tensorboard<2.16,>=2.15->tensorflow==2.15) (3.6)\n",
            "Requirement already satisfied: requests<3,>=2.21.0 in /usr/local/lib/python3.10/dist-packages (from tensorboard<2.16,>=2.15->tensorflow==2.15) (2.31.0)\n",
            "Requirement already satisfied: tensorboard-data-server<0.8.0,>=0.7.0 in /usr/local/lib/python3.10/dist-packages (from tensorboard<2.16,>=2.15->tensorflow==2.15) (0.7.2)\n",
            "Requirement already satisfied: werkzeug>=1.0.1 in /usr/local/lib/python3.10/dist-packages (from tensorboard<2.16,>=2.15->tensorflow==2.15) (3.0.3)\n",
            "Requirement already satisfied: cachetools<6.0,>=2.0.0 in /usr/local/lib/python3.10/dist-packages (from google-auth<3,>=1.6.3->tensorboard<2.16,>=2.15->tensorflow==2.15) (5.3.3)\n",
            "Requirement already satisfied: pyasn1-modules>=0.2.1 in /usr/local/lib/python3.10/dist-packages (from google-auth<3,>=1.6.3->tensorboard<2.16,>=2.15->tensorflow==2.15) (0.4.0)\n",
            "Requirement already satisfied: rsa<5,>=3.1.4 in /usr/local/lib/python3.10/dist-packages (from google-auth<3,>=1.6.3->tensorboard<2.16,>=2.15->tensorflow==2.15) (4.9)\n",
            "Requirement already satisfied: requests-oauthlib>=0.7.0 in /usr/local/lib/python3.10/dist-packages (from google-auth-oauthlib<2,>=0.5->tensorboard<2.16,>=2.15->tensorflow==2.15) (1.3.1)\n",
            "Requirement already satisfied: charset-normalizer<4,>=2 in /usr/local/lib/python3.10/dist-packages (from requests<3,>=2.21.0->tensorboard<2.16,>=2.15->tensorflow==2.15) (3.3.2)\n",
            "Requirement already satisfied: idna<4,>=2.5 in /usr/local/lib/python3.10/dist-packages (from requests<3,>=2.21.0->tensorboard<2.16,>=2.15->tensorflow==2.15) (3.7)\n",
            "Requirement already satisfied: urllib3<3,>=1.21.1 in /usr/local/lib/python3.10/dist-packages (from requests<3,>=2.21.0->tensorboard<2.16,>=2.15->tensorflow==2.15) (2.0.7)\n",
            "Requirement already satisfied: certifi>=2017.4.17 in /usr/local/lib/python3.10/dist-packages (from requests<3,>=2.21.0->tensorboard<2.16,>=2.15->tensorflow==2.15) (2024.6.2)\n",
            "Requirement already satisfied: MarkupSafe>=2.1.1 in /usr/local/lib/python3.10/dist-packages (from werkzeug>=1.0.1->tensorboard<2.16,>=2.15->tensorflow==2.15) (2.1.5)\n",
            "Requirement already satisfied: pyasn1<0.7.0,>=0.4.6 in /usr/local/lib/python3.10/dist-packages (from pyasn1-modules>=0.2.1->google-auth<3,>=1.6.3->tensorboard<2.16,>=2.15->tensorflow==2.15) (0.6.0)\n",
            "Requirement already satisfied: oauthlib>=3.0.0 in /usr/local/lib/python3.10/dist-packages (from requests-oauthlib>=0.7.0->google-auth-oauthlib<2,>=0.5->tensorboard<2.16,>=2.15->tensorflow==2.15) (3.2.2)\n",
            "Installing collected packages: tensorflow-estimator, numpy, keras, tensorboard, tensorflow\n",
            "  Attempting uninstall: tensorflow-estimator\n",
            "    Found existing installation: tensorflow-estimator 2.14.0\n",
            "    Uninstalling tensorflow-estimator-2.14.0:\n",
            "      Successfully uninstalled tensorflow-estimator-2.14.0\n",
            "  Attempting uninstall: numpy\n",
            "    Found existing installation: numpy 1.23.1\n",
            "    Uninstalling numpy-1.23.1:\n",
            "      Successfully uninstalled numpy-1.23.1\n",
            "  Attempting uninstall: keras\n",
            "    Found existing installation: keras 2.14.0\n",
            "    Uninstalling keras-2.14.0:\n",
            "      Successfully uninstalled keras-2.14.0\n",
            "  Attempting uninstall: tensorboard\n",
            "    Found existing installation: tensorboard 2.14.1\n",
            "    Uninstalling tensorboard-2.14.1:\n",
            "      Successfully uninstalled tensorboard-2.14.1\n",
            "  Attempting uninstall: tensorflow\n",
            "    Found existing installation: tensorflow 2.14.1\n",
            "    Uninstalling tensorflow-2.14.1:\n",
            "      Successfully uninstalled tensorflow-2.14.1\n",
            "Successfully installed keras-2.15.0 numpy-1.26.4 tensorboard-2.15.2 tensorflow-2.15.0 tensorflow-estimator-2.15.0\n"
          ]
        },
        {
          "output_type": "display_data",
          "data": {
            "application/vnd.colab-display-data+json": {
              "pip_warning": {
                "packages": [
                  "keras",
                  "tensorboard",
                  "tensorflow"
                ]
              },
              "id": "828f73eae2e84b0293ce0ebddfe54915"
            }
          },
          "metadata": {}
        },
        {
          "output_type": "stream",
          "name": "stdout",
          "text": [
            "\u001b[31mERROR: pip's dependency resolver does not currently take into account all the packages that are installed. This behaviour is the source of the following dependency conflicts.\n",
            "tf-keras 2.15.1 requires tensorflow<2.16,>=2.15, but you have tensorflow 2.14.1 which is incompatible.\u001b[0m\u001b[31m\n",
            "\u001b[0mRequirement already satisfied: facets-overview==1.0.0 in /usr/local/lib/python3.10/dist-packages (1.0.0)\n",
            "Requirement already satisfied: numpy>=1.16.0 in /usr/local/lib/python3.10/dist-packages (from facets-overview==1.0.0) (1.26.4)\n",
            "Requirement already satisfied: pandas>=0.22.0 in /usr/local/lib/python3.10/dist-packages (from facets-overview==1.0.0) (2.0.3)\n",
            "Requirement already satisfied: protobuf>=3.7.0 in /usr/local/lib/python3.10/dist-packages (from facets-overview==1.0.0) (3.20.3)\n",
            "Requirement already satisfied: python-dateutil>=2.8.2 in /usr/local/lib/python3.10/dist-packages (from pandas>=0.22.0->facets-overview==1.0.0) (2.8.2)\n",
            "Requirement already satisfied: pytz>=2020.1 in /usr/local/lib/python3.10/dist-packages (from pandas>=0.22.0->facets-overview==1.0.0) (2023.4)\n",
            "Requirement already satisfied: tzdata>=2022.1 in /usr/local/lib/python3.10/dist-packages (from pandas>=0.22.0->facets-overview==1.0.0) (2024.1)\n",
            "Requirement already satisfied: six>=1.5 in /usr/local/lib/python3.10/dist-packages (from python-dateutil>=2.8.2->pandas>=0.22.0->facets-overview==1.0.0) (1.16.0)\n",
            "Collecting numpy==1.24.1\n",
            "  Downloading numpy-1.24.1-cp310-cp310-manylinux_2_17_x86_64.manylinux2014_x86_64.whl (17.3 MB)\n",
            "\u001b[2K     \u001b[90m━━━━━━━━━━━━━━━━━━━━━━━━━━━━━━━━━━━━━━━━\u001b[0m \u001b[32m17.3/17.3 MB\u001b[0m \u001b[31m60.0 MB/s\u001b[0m eta \u001b[36m0:00:00\u001b[0m\n",
            "\u001b[?25hInstalling collected packages: numpy\n",
            "  Attempting uninstall: numpy\n",
            "    Found existing installation: numpy 1.26.4\n",
            "    Uninstalling numpy-1.26.4:\n",
            "      Successfully uninstalled numpy-1.26.4\n",
            "\u001b[31mERROR: pip's dependency resolver does not currently take into account all the packages that are installed. This behaviour is the source of the following dependency conflicts.\n",
            "pandas-stubs 2.0.3.230814 requires numpy>=1.25.0; python_version >= \"3.9\", but you have numpy 1.24.1 which is incompatible.\n",
            "tf-keras 2.15.1 requires tensorflow<2.16,>=2.15, but you have tensorflow 2.14.1 which is incompatible.\u001b[0m\u001b[31m\n",
            "\u001b[0mSuccessfully installed numpy-1.24.1\n"
          ]
        },
        {
          "output_type": "display_data",
          "data": {
            "application/vnd.colab-display-data+json": {
              "pip_warning": {
                "packages": [
                  "numpy"
                ]
              },
              "id": "55679222d9fe4a2a92e8aabd52e4b60e"
            }
          },
          "metadata": {}
        },
        {
          "output_type": "stream",
          "name": "stdout",
          "text": [
            "Requirement already satisfied: librosa in /usr/local/lib/python3.10/dist-packages (0.10.2.post1)\n",
            "Requirement already satisfied: audioread>=2.1.9 in /usr/local/lib/python3.10/dist-packages (from librosa) (3.0.1)\n",
            "Requirement already satisfied: numpy!=1.22.0,!=1.22.1,!=1.22.2,>=1.20.3 in /usr/local/lib/python3.10/dist-packages (from librosa) (1.24.1)\n",
            "Requirement already satisfied: scipy>=1.2.0 in /usr/local/lib/python3.10/dist-packages (from librosa) (1.11.4)\n",
            "Requirement already satisfied: scikit-learn>=0.20.0 in /usr/local/lib/python3.10/dist-packages (from librosa) (1.2.2)\n",
            "Requirement already satisfied: joblib>=0.14 in /usr/local/lib/python3.10/dist-packages (from librosa) (1.4.2)\n",
            "Requirement already satisfied: decorator>=4.3.0 in /usr/local/lib/python3.10/dist-packages (from librosa) (4.4.2)\n",
            "Requirement already satisfied: numba>=0.51.0 in /usr/local/lib/python3.10/dist-packages (from librosa) (0.58.1)\n",
            "Requirement already satisfied: soundfile>=0.12.1 in /usr/local/lib/python3.10/dist-packages (from librosa) (0.12.1)\n",
            "Requirement already satisfied: pooch>=1.1 in /usr/local/lib/python3.10/dist-packages (from librosa) (1.8.1)\n",
            "Requirement already satisfied: soxr>=0.3.2 in /usr/local/lib/python3.10/dist-packages (from librosa) (0.3.7)\n",
            "Requirement already satisfied: typing-extensions>=4.1.1 in /usr/local/lib/python3.10/dist-packages (from librosa) (4.12.1)\n",
            "Requirement already satisfied: lazy-loader>=0.1 in /usr/local/lib/python3.10/dist-packages (from librosa) (0.4)\n",
            "Requirement already satisfied: msgpack>=1.0 in /usr/local/lib/python3.10/dist-packages (from librosa) (1.0.8)\n",
            "Requirement already satisfied: packaging in /usr/local/lib/python3.10/dist-packages (from lazy-loader>=0.1->librosa) (24.0)\n",
            "Requirement already satisfied: llvmlite<0.42,>=0.41.0dev0 in /usr/local/lib/python3.10/dist-packages (from numba>=0.51.0->librosa) (0.41.1)\n",
            "Requirement already satisfied: platformdirs>=2.5.0 in /usr/local/lib/python3.10/dist-packages (from pooch>=1.1->librosa) (4.2.2)\n",
            "Requirement already satisfied: requests>=2.19.0 in /usr/local/lib/python3.10/dist-packages (from pooch>=1.1->librosa) (2.31.0)\n",
            "Requirement already satisfied: threadpoolctl>=2.0.0 in /usr/local/lib/python3.10/dist-packages (from scikit-learn>=0.20.0->librosa) (3.5.0)\n",
            "Requirement already satisfied: cffi>=1.0 in /usr/local/lib/python3.10/dist-packages (from soundfile>=0.12.1->librosa) (1.16.0)\n",
            "Requirement already satisfied: pycparser in /usr/local/lib/python3.10/dist-packages (from cffi>=1.0->soundfile>=0.12.1->librosa) (2.22)\n",
            "Requirement already satisfied: charset-normalizer<4,>=2 in /usr/local/lib/python3.10/dist-packages (from requests>=2.19.0->pooch>=1.1->librosa) (3.3.2)\n",
            "Requirement already satisfied: idna<4,>=2.5 in /usr/local/lib/python3.10/dist-packages (from requests>=2.19.0->pooch>=1.1->librosa) (3.7)\n",
            "Requirement already satisfied: urllib3<3,>=1.21.1 in /usr/local/lib/python3.10/dist-packages (from requests>=2.19.0->pooch>=1.1->librosa) (2.0.7)\n",
            "Requirement already satisfied: certifi>=2017.4.17 in /usr/local/lib/python3.10/dist-packages (from requests>=2.19.0->pooch>=1.1->librosa) (2024.6.2)\n"
          ]
        }
      ],
      "source": [
        "!pip install tensorflow==2.15 #forziamo la versione di tensorflow a 2.15, altrimenti crea problemi\n",
        "!pip install -q alibi[tensorflow]"
      ]
    },
    {
      "cell_type": "code",
      "source": [
        "#importo le librerie necessarie\n",
        "import tensorflow as tf\n",
        "import os\n",
        "import pandas as pd\n",
        "import numpy as np\n",
        "import matplotlib as plt\n",
        "import IPython.display as IPD\n",
        "from google.colab import drive #libreria particolare per avere la possibilità di accedere al mio Drive da Colab\n",
        "drive.mount(\"/content/drive\")"
      ],
      "metadata": {
        "id": "7aXhcmFXMfgP",
        "colab": {
          "base_uri": "https://localhost:8080/"
        },
        "outputId": "7b99bf5f-d197-4cbd-bbe8-f6fcfc6670d0"
      },
      "execution_count": 119,
      "outputs": [
        {
          "output_type": "stream",
          "name": "stdout",
          "text": [
            "Drive already mounted at /content/drive; to attempt to forcibly remount, call drive.mount(\"/content/drive\", force_remount=True).\n"
          ]
        }
      ]
    },
    {
      "cell_type": "code",
      "source": [
        "!cd /content/drive/MyDrive/Colab\\ Notebooks/reduced_dataset/train\n",
        "!ls"
      ],
      "metadata": {
        "id": "40NTY0eZPeUP",
        "colab": {
          "base_uri": "https://localhost:8080/"
        },
        "outputId": "c0fb346b-1115-4493-c038-c1126cb71667"
      },
      "execution_count": 120,
      "outputs": [
        {
          "output_type": "stream",
          "name": "stdout",
          "text": [
            "bed   cat  down   five\tgo     house  marvin  no   on\tright  sheila  stop   tree  up\t yes\n",
            "bird  dog  eight  four\thappy  left   nine    off  one\tseven  six     three  two   wow  zero\n"
          ]
        }
      ]
    },
    {
      "cell_type": "code",
      "source": [
        "!ls /content/drive/MyDrive/Colab\\ Notebooks/reduced_dataset/train/audio/wow #qui abbiamo un primo esempio di cosa è contenuto in una delle nostre cartelle"
      ],
      "metadata": {
        "colab": {
          "base_uri": "https://localhost:8080/"
        },
        "id": "t7cCY0aOlVjb",
        "outputId": "3ebee2a7-6761-496d-bf0b-1a0a658de7ff"
      },
      "execution_count": 121,
      "outputs": [
        {
          "output_type": "stream",
          "name": "stdout",
          "text": [
            "0132a06d_nohash_0.wav  3d6bee47_nohash_1.wav  72aa7259_nohash_1.wav  b26343e9_nohash_0.wav\n",
            "01648c51_nohash_1.wav  3d9200b9_nohash_0.wav  7318280c_nohash_1.wav  b26343e9_nohash_1.wav\n",
            "016e2c6d_nohash_0.wav  3da7f617_nohash_0.wav  73af0c50_nohash_0.wav  b3bb4dd6_nohash_0.wav\n",
            "01bb6a2a_nohash_0.wav  3df9a3d4_nohash_0.wav  742d6431_nohash_0.wav  b4aa9fef_nohash_0.wav\n",
            "05cf43ef_nohash_1.wav  3ea77ede_nohash_0.wav  745a8e32_nohash_0.wav  b5552931_nohash_0.wav\n",
            "070b49af_nohash_0.wav  413bcfe1_nohash_0.wav  76424fa5_nohash_0.wav  b7669804_nohash_0.wav\n",
            "079d1020_nohash_0.wav  41dce6f5_nohash_1.wav  78622c2b_nohash_0.wav  b83c1acf_nohash_0.wav\n",
            "079dfce3_nohash_0.wav  421ed23f_nohash_0.wav  7ab5b8f7_nohash_0.wav  b8872c20_nohash_0.wav\n",
            "07c5129e_nohash_0.wav  422d3197_nohash_1.wav  7add4c5f_nohash_1.wav  b9515bf3_nohash_0.wav\n",
            "095847e4_nohash_1.wav  422f8cf1_nohash_1.wav  7bf801d1_nohash_0.wav  b959cd0c_nohash_0.wav\n",
            "099d52ad_nohash_0.wav  437455be_nohash_0.wav  7ca023e2_nohash_3.wav  bb31b82b_nohash_1.wav\n",
            "0a7c2a8d_nohash_2.wav  43b85b64_nohash_1.wav  7cb5c0b7_nohash_0.wav  bd11c654_nohash_0.wav\n",
            "0ab3b47d_nohash_1.wav  43fc47a7_nohash_0.wav  7cf14c54_nohash_0.wav  bdee441c_nohash_0.wav\n",
            "0ac15fe9_nohash_1.wav  4407ba92_nohash_0.wav  7d86b703_nohash_0.wav  be7a5b2d_nohash_0.wav\n",
            "0b40aa8e_nohash_0.wav  44bc77f7_nohash_2.wav  7de97453_nohash_0.wav  bfdb9801_nohash_0.wav\n",
            "0bde966a_nohash_0.wav  44dad20e_nohash_1.wav  7f74626f_nohash_0.wav  c0445658_nohash_0.wav\n",
            "0bde966a_nohash_1.wav  479e64cc_nohash_1.wav  80f056c0_nohash_1.wav  c0f8f4df_nohash_0.wav\n",
            "0d53e045_nohash_0.wav  47d01978_nohash_0.wav  815f0f03_nohash_0.wav  c120e80e_nohash_2.wav\n",
            "0ea0e2f4_nohash_0.wav  48a8a69d_nohash_0.wav  837f7378_nohash_1.wav  c1b7c224_nohash_0.wav\n",
            "0f250098_nohash_1.wav  493392c6_nohash_0.wav  8494fba8_nohash_0.wav  c1d39ce8_nohash_0.wav\n",
            "0f7205ef_nohash_1.wav  4abefdf5_nohash_0.wav  88e90bc1_nohash_2.wav  c1e0e8e3_nohash_0.wav\n",
            "0ff728b5_nohash_0.wav  4f8ef132_nohash_0.wav  88f8a99c_nohash_0.wav  c4533c47_nohash_1.wav\n",
            "10467b06_nohash_0.wav  4fe01997_nohash_0.wav  89865a6f_nohash_0.wav  c50225fa_nohash_2.wav\n",
            "105e72bb_nohash_0.wav  5188de0d_nohash_0.wav  89e59d18_nohash_0.wav  c53b335a_nohash_0.wav\n",
            "105e72bb_nohash_2.wav  520e8c0e_nohash_0.wav  8c3c4715_nohash_0.wav  c634a189_nohash_0.wav\n",
            "10f2bb12_nohash_0.wav  528f9242_nohash_0.wav  8d8d9855_nohash_1.wav  c6ee87a7_nohash_0.wav\n",
            "11a022ba_nohash_0.wav  533c6564_nohash_0.wav  8e05039f_nohash_0.wav  c71e3acc_nohash_0.wav\n",
            "11a022ba_nohash_1.wav  53458368_nohash_0.wav  8eb4a1bf_nohash_0.wav  c885a039_nohash_0.wav\n",
            "126403d4_nohash_1.wav  541e4079_nohash_0.wav  8fce59ff_nohash_0.wav  caa4779f_nohash_1.wav\n",
            "14775481_nohash_1.wav  57376a4c_nohash_0.wav  8fe52b97_nohash_0.wav  cb5d2c6e_nohash_0.wav\n",
            "15c371c7_nohash_0.wav  58d174ca_nohash_0.wav  8ff44869_nohash_1.wav  cc592808_nohash_3.wav\n",
            "15c371c7_nohash_1.wav  59c3a7f2_nohash_0.wav  902258bb_nohash_0.wav  cd85758f_nohash_0.wav\n",
            "15c563d7_nohash_0.wav  5ac04a92_nohash_0.wav  902258bb_nohash_1.wav  cf68fad2_nohash_0.wav\n",
            "173e6bbf_nohash_1.wav  5de8f2f0_nohash_1.wav  91223b83_nohash_1.wav  d197e3ae_nohash_0.wav\n",
            "187af8be_nohash_0.wav  5e1b34a6_nohash_1.wav  924c1a04_nohash_0.wav  d3badc9a_nohash_1.wav\n",
            "18c54a68_nohash_0.wav  5e3b7a84_nohash_0.wav  92b2bf59_nohash_2.wav  d3badc9a_nohash_2.wav\n",
            "19e98e89_nohash_0.wav  5e3b7a84_nohash_1.wav  937b433e_nohash_0.wav  d4d898d7_nohash_0.wav\n",
            "19f9c115_nohash_2.wav  617de221_nohash_0.wav  937b433e_nohash_1.wav  d53e25ba_nohash_0.wav\n",
            "1a673010_nohash_0.wav  6205088b_nohash_0.wav  9385508d_nohash_0.wav  d94eb94f_nohash_0.wav\n",
            "1afd49bf_nohash_0.wav  6205088b_nohash_1.wav  97f493b9_nohash_0.wav  d9d6559e_nohash_1.wav\n",
            "1b63157b_nohash_0.wav  62581901_nohash_0.wav  981e2a16_nohash_0.wav  da76aa58_nohash_0.wav\n",
            "1c1060b1_nohash_0.wav  6272b231_nohash_0.wav  98447c43_nohash_0.wav  da76aa58_nohash_2.wav\n",
            "1c1060b1_nohash_1.wav  627c0bec_nohash_0.wav  9a356ab9_nohash_1.wav  dabf67d9_nohash_0.wav\n",
            "1c6e5447_nohash_0.wav  637c702a_nohash_0.wav  9a3f97f8_nohash_0.wav  dc2222d7_nohash_0.wav\n",
            "1cbcc7a7_nohash_0.wav  63996b7c_nohash_1.wav  9aa21fa9_nohash_0.wav  df280250_nohash_0.wav\n",
            "1d1fe0a0_nohash_0.wav  6414258b_nohash_0.wav  9aa5439d_nohash_0.wav  e0322f2c_nohash_0.wav\n",
            "1fe4c891_nohash_0.wav  64220627_nohash_0.wav  9ab86dd0_nohash_1.wav  e07dd7d4_nohash_0.wav\n",
            "2039b9c1_nohash_0.wav  64574a99_nohash_1.wav  9beccfc8_nohash_0.wav  e14d3db8_nohash_1.wav\n",
            "21cbe292_nohash_1.wav  64da5281_nohash_0.wav  9d171fee_nohash_0.wav  e2286c18_nohash_1.wav\n",
            "2313e093_nohash_0.wav  64da5281_nohash_1.wav  9d4bab4f_nohash_0.wav  e41e41f7_nohash_0.wav\n",
            "2510c044_nohash_2.wav  653a48f5_nohash_0.wav  9e075bf1_nohash_0.wav  e4200516_nohash_0.wav\n",
            "2643992f_nohash_1.wav  65d14087_nohash_1.wav  a13e0a74_nohash_0.wav  e48a80ed_nohash_0.wav\n",
            "26b28ea7_nohash_0.wav  66041c69_nohash_0.wav  a19452d5_nohash_1.wav  e53139ad_nohash_0.wav\n",
            "28e47b1a_nohash_0.wav  67961766_nohash_0.wav  a2fefcb4_nohash_0.wav  e57abea3_nohash_1.wav\n",
            "2aec99ec_nohash_0.wav  67c7fecb_nohash_0.wav  a3255f5c_nohash_3.wav  e5d2e09d_nohash_0.wav\n",
            "2c6d3924_nohash_0.wav  6823565f_nohash_1.wav  a3502f15_nohash_0.wav  e7ebf59c_nohash_0.wav\n",
            "2d3c8dcb_nohash_0.wav  6823565f_nohash_2.wav  a5b24175_nohash_0.wav  eb6dab4a_nohash_3.wav\n",
            "311fde72_nohash_1.wav  692a88e6_nohash_0.wav  a879a2c3_nohash_1.wav  ec201020_nohash_0.wav\n",
            "31267b59_nohash_1.wav  69953f48_nohash_0.wav  a8f45bdc_nohash_0.wav  ecef25ba_nohash_0.wav\n",
            "3143fdff_nohash_0.wav  69953f48_nohash_1.wav  a9abc695_nohash_0.wav  edd8bfe3_nohash_0.wav\n",
            "32a19ecf_nohash_0.wav  6a27a9bf_nohash_0.wav  aa62fdad_nohash_0.wav  ee483d85_nohash_0.wav\n",
            "34263ab3_nohash_1.wav  6a27a9bf_nohash_1.wav  aa62fdad_nohash_1.wav  eefd26f3_nohash_0.wav\n",
            "34805883_nohash_1.wav  6a2fb9a5_nohash_0.wav  aa62fdad_nohash_2.wav  f0edc767_nohash_1.wav\n",
            "34805883_nohash_2.wav  6a700f9d_nohash_0.wav  aac5b7c1_nohash_0.wav  f192e6b4_nohash_0.wav\n",
            "34805883_nohash_3.wav  6aafb34f_nohash_0.wav  ac652c60_nohash_0.wav  f3cee168_nohash_0.wav\n",
            "34ba417a_nohash_0.wav  6add0595_nohash_0.wav  ac899eb7_nohash_1.wav  f5c3de1b_nohash_0.wav\n",
            "34e8c726_nohash_0.wav  6c429c7b_nohash_0.wav  aeb99b1c_nohash_0.wav  f7879738_nohash_0.wav\n",
            "35d1b6ee_nohash_0.wav  6e74c582_nohash_1.wav  afabfa0e_nohash_0.wav  f864cd4a_nohash_1.wav\n",
            "365531e2_nohash_0.wav  6e916de8_nohash_1.wav  afb9e62e_nohash_1.wav  f88f97a7_nohash_0.wav\n",
            "38c30a4a_nohash_0.wav  6ef76186_nohash_1.wav  b00c4c53_nohash_1.wav  f8ad3941_nohash_1.wav\n",
            "38c388bc_nohash_0.wav  6f5eea74_nohash_0.wav  b1114e4f_nohash_0.wav  f92e49f3_nohash_0.wav\n",
            "38d78313_nohash_0.wav  6f689791_nohash_0.wav  b11a05d2_nohash_0.wav  f9af823e_nohash_0.wav\n",
            "39025b21_nohash_0.wav  7117fb6d_nohash_0.wav  b15fc37d_nohash_0.wav  fac7deca_nohash_0.wav\n",
            "3903b558_nohash_1.wav  7211390b_nohash_0.wav  b1de039c_nohash_0.wav  fb24c826_nohash_0.wav\n",
            "3d6bee47_nohash_0.wav  72aa7259_nohash_0.wav  b21f0fa4_nohash_1.wav  ff63ab0b_nohash_0.wav\n"
          ]
        }
      ]
    },
    {
      "cell_type": "code",
      "source": [
        "#proviamo ad ascoltare un audio e capiamo come farlo sopratutto\n",
        "path_audio = '/content/drive/MyDrive/Colab Notebooks/reduced_dataset/train/audio/wow/aac5b7c1_nohash_0.wav'\n",
        "audio = IPD.Audio(path_audio, autoplay=True)\n",
        "display(audio)\n"
      ],
      "metadata": {
        "colab": {
          "base_uri": "https://localhost:8080/",
          "height": 75
        },
        "id": "iYR5UEKYm-gk",
        "outputId": "c0b72d4e-6ccd-45cc-c619-41c02b11d537"
      },
      "execution_count": 122,
      "outputs": [
        {
          "output_type": "display_data",
          "data": {
            "text/plain": [
              "<IPython.lib.display.Audio object>"
            ],
            "text/html": [
              "\n",
              "                <audio  controls=\"controls\" autoplay=\"autoplay\">\n",
              "                    <source src=\"data:audio/x-wav;base64,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\" type=\"audio/x-wav\" />\n",
              "                    Your browser does not support the audio element.\n",
              "                </audio>\n",
              "              "
            ]
          },
          "metadata": {}
        }
      ]
    },
    {
      "cell_type": "code",
      "source": [
        "path_dataset = '/content/drive/MyDrive/Colab Notebooks/reduced_dataset/train/audio'\n",
        "labels = np.array(tf.io.gfile.listdir(str(path_dataset)))\n",
        "labels = labels[labels != '.DS_Store'] #rimuovo .DS_Store perché non è un comando, devo chiedere a Gabry cosa sia\n",
        "print('Labels che troviamo nelle varie cartelle: ', labels)"
      ],
      "metadata": {
        "id": "JtvW9xDDwKw2",
        "colab": {
          "base_uri": "https://localhost:8080/"
        },
        "outputId": "f63cd56b-b8ec-4386-c602-a0999eef9222"
      },
      "execution_count": 123,
      "outputs": [
        {
          "output_type": "stream",
          "name": "stdout",
          "text": [
            "Labels che troviamo nelle varie cartelle:  ['up' 'marvin' 'two' 'house' 'down' 'six' 'yes' 'on' 'five' 'off' 'four'\n",
            " 'no' 'nine' 'left' 'stop' 'three' 'sheila' 'one' 'bird' 'zero' 'seven'\n",
            " 'right' 'eight' 'cat' 'tree' 'bed' 'happy' 'go' 'dog' 'wow']\n"
          ]
        }
      ]
    },
    {
      "cell_type": "code",
      "source": [
        "#passiamo ora a vedere da quanti file è composto il nostro dataset di train\n",
        "filenames = tf.io.gfile.glob(str(path_dataset) + '/*/*')\n",
        "filenames = tf.random.shuffle(filenames)\n",
        "\n",
        "print('Numero totale di file audio: ', len(filenames))\n",
        "\n",
        "\n"
      ],
      "metadata": {
        "colab": {
          "base_uri": "https://localhost:8080/"
        },
        "id": "JkGIlv35A95q",
        "outputId": "52733d04-5886-4158-c8e6-4923395e973b"
      },
      "execution_count": 141,
      "outputs": [
        {
          "output_type": "stream",
          "name": "stdout",
          "text": [
            "Numero totale di file audio:  9000\n"
          ]
        }
      ]
    }
  ]
}