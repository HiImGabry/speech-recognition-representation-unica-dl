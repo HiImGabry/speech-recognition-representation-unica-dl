{
  "nbformat": 4,
  "nbformat_minor": 0,
  "metadata": {
    "colab": {
      "provenance": [],
      "mount_file_id": "1N0NDBOY7K4UHonu4yTPFDuWDg4lv9UAG",
      "authorship_tag": "ABX9TyNyQOpQCL8u8uBsArh81ITq",
      "include_colab_link": true
    },
    "kernelspec": {
      "name": "python3",
      "display_name": "Python 3"
    },
    "language_info": {
      "name": "python"
    }
  },
  "cells": [
    {
      "cell_type": "markdown",
      "metadata": {
        "id": "view-in-github",
        "colab_type": "text"
      },
      "source": [
        "<a href=\"https://colab.research.google.com/github/HiImGabry/speech-recognition-representation-unica-dl/blob/issue-2/Analisi_EsplorativaVersioneUfficiale.ipynb\" target=\"_parent\"><img src=\"https://colab.research.google.com/assets/colab-badge.svg\" alt=\"Open In Colab\"/></a>"
      ]
    },
    {
      "cell_type": "markdown",
      "source": [
        "Analisi Dataset"
      ],
      "metadata": {
        "id": "JFCupbnsMdhB"
      }
    },
    {
      "cell_type": "code",
      "execution_count": null,
      "metadata": {
        "colab": {
          "base_uri": "https://localhost:8080/",
          "height": 1000
        },
        "id": "48I1qH4WMAhO",
        "outputId": "52fffa68-fb51-4b48-fee7-d5ab54bd2afe"
      },
      "outputs": [
        {
          "output_type": "stream",
          "name": "stdout",
          "text": [
            "Collecting tensorflow==2.15\n",
            "  Using cached tensorflow-2.15.0-cp310-cp310-manylinux_2_17_x86_64.manylinux2014_x86_64.whl (475.2 MB)\n",
            "Requirement already satisfied: absl-py>=1.0.0 in /usr/local/lib/python3.10/dist-packages (from tensorflow==2.15) (1.4.0)\n",
            "Requirement already satisfied: astunparse>=1.6.0 in /usr/local/lib/python3.10/dist-packages (from tensorflow==2.15) (1.6.3)\n",
            "Requirement already satisfied: flatbuffers>=23.5.26 in /usr/local/lib/python3.10/dist-packages (from tensorflow==2.15) (24.3.25)\n",
            "Requirement already satisfied: gast!=0.5.0,!=0.5.1,!=0.5.2,>=0.2.1 in /usr/local/lib/python3.10/dist-packages (from tensorflow==2.15) (0.5.4)\n",
            "Requirement already satisfied: google-pasta>=0.1.1 in /usr/local/lib/python3.10/dist-packages (from tensorflow==2.15) (0.2.0)\n",
            "Requirement already satisfied: h5py>=2.9.0 in /usr/local/lib/python3.10/dist-packages (from tensorflow==2.15) (3.9.0)\n",
            "Requirement already satisfied: libclang>=13.0.0 in /usr/local/lib/python3.10/dist-packages (from tensorflow==2.15) (18.1.1)\n",
            "Requirement already satisfied: ml-dtypes~=0.2.0 in /usr/local/lib/python3.10/dist-packages (from tensorflow==2.15) (0.2.0)\n",
            "Collecting numpy<2.0.0,>=1.23.5 (from tensorflow==2.15)\n",
            "  Using cached numpy-1.26.4-cp310-cp310-manylinux_2_17_x86_64.manylinux2014_x86_64.whl (18.2 MB)\n",
            "Requirement already satisfied: opt-einsum>=2.3.2 in /usr/local/lib/python3.10/dist-packages (from tensorflow==2.15) (3.3.0)\n",
            "Requirement already satisfied: packaging in /usr/local/lib/python3.10/dist-packages (from tensorflow==2.15) (24.0)\n",
            "Requirement already satisfied: protobuf!=4.21.0,!=4.21.1,!=4.21.2,!=4.21.3,!=4.21.4,!=4.21.5,<5.0.0dev,>=3.20.3 in /usr/local/lib/python3.10/dist-packages (from tensorflow==2.15) (3.20.3)\n",
            "Requirement already satisfied: setuptools in /usr/local/lib/python3.10/dist-packages (from tensorflow==2.15) (67.7.2)\n",
            "Requirement already satisfied: six>=1.12.0 in /usr/local/lib/python3.10/dist-packages (from tensorflow==2.15) (1.16.0)\n",
            "Requirement already satisfied: termcolor>=1.1.0 in /usr/local/lib/python3.10/dist-packages (from tensorflow==2.15) (2.4.0)\n",
            "Requirement already satisfied: typing-extensions>=3.6.6 in /usr/local/lib/python3.10/dist-packages (from tensorflow==2.15) (4.12.1)\n",
            "Requirement already satisfied: wrapt<1.15,>=1.11.0 in /usr/local/lib/python3.10/dist-packages (from tensorflow==2.15) (1.14.1)\n",
            "Requirement already satisfied: tensorflow-io-gcs-filesystem>=0.23.1 in /usr/local/lib/python3.10/dist-packages (from tensorflow==2.15) (0.37.0)\n",
            "Requirement already satisfied: grpcio<2.0,>=1.24.3 in /usr/local/lib/python3.10/dist-packages (from tensorflow==2.15) (1.64.1)\n",
            "Collecting tensorboard<2.16,>=2.15 (from tensorflow==2.15)\n",
            "  Using cached tensorboard-2.15.2-py3-none-any.whl (5.5 MB)\n",
            "Collecting tensorflow-estimator<2.16,>=2.15.0 (from tensorflow==2.15)\n",
            "  Using cached tensorflow_estimator-2.15.0-py2.py3-none-any.whl (441 kB)\n",
            "Collecting keras<2.16,>=2.15.0 (from tensorflow==2.15)\n",
            "  Using cached keras-2.15.0-py3-none-any.whl (1.7 MB)\n",
            "Requirement already satisfied: wheel<1.0,>=0.23.0 in /usr/local/lib/python3.10/dist-packages (from astunparse>=1.6.0->tensorflow==2.15) (0.43.0)\n",
            "Requirement already satisfied: google-auth<3,>=1.6.3 in /usr/local/lib/python3.10/dist-packages (from tensorboard<2.16,>=2.15->tensorflow==2.15) (2.27.0)\n",
            "Requirement already satisfied: google-auth-oauthlib<2,>=0.5 in /usr/local/lib/python3.10/dist-packages (from tensorboard<2.16,>=2.15->tensorflow==2.15) (1.0.0)\n",
            "Requirement already satisfied: markdown>=2.6.8 in /usr/local/lib/python3.10/dist-packages (from tensorboard<2.16,>=2.15->tensorflow==2.15) (3.6)\n",
            "Requirement already satisfied: requests<3,>=2.21.0 in /usr/local/lib/python3.10/dist-packages (from tensorboard<2.16,>=2.15->tensorflow==2.15) (2.31.0)\n",
            "Requirement already satisfied: tensorboard-data-server<0.8.0,>=0.7.0 in /usr/local/lib/python3.10/dist-packages (from tensorboard<2.16,>=2.15->tensorflow==2.15) (0.7.2)\n",
            "Requirement already satisfied: werkzeug>=1.0.1 in /usr/local/lib/python3.10/dist-packages (from tensorboard<2.16,>=2.15->tensorflow==2.15) (3.0.3)\n",
            "Requirement already satisfied: cachetools<6.0,>=2.0.0 in /usr/local/lib/python3.10/dist-packages (from google-auth<3,>=1.6.3->tensorboard<2.16,>=2.15->tensorflow==2.15) (5.3.3)\n",
            "Requirement already satisfied: pyasn1-modules>=0.2.1 in /usr/local/lib/python3.10/dist-packages (from google-auth<3,>=1.6.3->tensorboard<2.16,>=2.15->tensorflow==2.15) (0.4.0)\n",
            "Requirement already satisfied: rsa<5,>=3.1.4 in /usr/local/lib/python3.10/dist-packages (from google-auth<3,>=1.6.3->tensorboard<2.16,>=2.15->tensorflow==2.15) (4.9)\n",
            "Requirement already satisfied: requests-oauthlib>=0.7.0 in /usr/local/lib/python3.10/dist-packages (from google-auth-oauthlib<2,>=0.5->tensorboard<2.16,>=2.15->tensorflow==2.15) (1.3.1)\n",
            "Requirement already satisfied: charset-normalizer<4,>=2 in /usr/local/lib/python3.10/dist-packages (from requests<3,>=2.21.0->tensorboard<2.16,>=2.15->tensorflow==2.15) (3.3.2)\n",
            "Requirement already satisfied: idna<4,>=2.5 in /usr/local/lib/python3.10/dist-packages (from requests<3,>=2.21.0->tensorboard<2.16,>=2.15->tensorflow==2.15) (3.7)\n",
            "Requirement already satisfied: urllib3<3,>=1.21.1 in /usr/local/lib/python3.10/dist-packages (from requests<3,>=2.21.0->tensorboard<2.16,>=2.15->tensorflow==2.15) (2.0.7)\n",
            "Requirement already satisfied: certifi>=2017.4.17 in /usr/local/lib/python3.10/dist-packages (from requests<3,>=2.21.0->tensorboard<2.16,>=2.15->tensorflow==2.15) (2024.6.2)\n",
            "Requirement already satisfied: MarkupSafe>=2.1.1 in /usr/local/lib/python3.10/dist-packages (from werkzeug>=1.0.1->tensorboard<2.16,>=2.15->tensorflow==2.15) (2.1.5)\n",
            "Requirement already satisfied: pyasn1<0.7.0,>=0.4.6 in /usr/local/lib/python3.10/dist-packages (from pyasn1-modules>=0.2.1->google-auth<3,>=1.6.3->tensorboard<2.16,>=2.15->tensorflow==2.15) (0.6.0)\n",
            "Requirement already satisfied: oauthlib>=3.0.0 in /usr/local/lib/python3.10/dist-packages (from requests-oauthlib>=0.7.0->google-auth-oauthlib<2,>=0.5->tensorboard<2.16,>=2.15->tensorflow==2.15) (3.2.2)\n",
            "Installing collected packages: tensorflow-estimator, numpy, keras, tensorboard, tensorflow\n",
            "  Attempting uninstall: tensorflow-estimator\n",
            "    Found existing installation: tensorflow-estimator 2.14.0\n",
            "    Uninstalling tensorflow-estimator-2.14.0:\n",
            "      Successfully uninstalled tensorflow-estimator-2.14.0\n",
            "  Attempting uninstall: numpy\n",
            "    Found existing installation: numpy 1.23.1\n",
            "    Uninstalling numpy-1.23.1:\n",
            "      Successfully uninstalled numpy-1.23.1\n",
            "  Attempting uninstall: keras\n",
            "    Found existing installation: keras 2.14.0\n",
            "    Uninstalling keras-2.14.0:\n",
            "      Successfully uninstalled keras-2.14.0\n",
            "  Attempting uninstall: tensorboard\n",
            "    Found existing installation: tensorboard 2.14.1\n",
            "    Uninstalling tensorboard-2.14.1:\n",
            "      Successfully uninstalled tensorboard-2.14.1\n",
            "  Attempting uninstall: tensorflow\n",
            "    Found existing installation: tensorflow 2.14.1\n",
            "    Uninstalling tensorflow-2.14.1:\n",
            "      Successfully uninstalled tensorflow-2.14.1\n",
            "Successfully installed keras-2.15.0 numpy-1.26.4 tensorboard-2.15.2 tensorflow-2.15.0 tensorflow-estimator-2.15.0\n"
          ]
        },
        {
          "output_type": "display_data",
          "data": {
            "application/vnd.colab-display-data+json": {
              "pip_warning": {
                "packages": [
                  "keras",
                  "tensorboard",
                  "tensorflow"
                ]
              },
              "id": "828f73eae2e84b0293ce0ebddfe54915"
            }
          },
          "metadata": {}
        },
        {
          "output_type": "stream",
          "name": "stdout",
          "text": [
            "\u001b[31mERROR: pip's dependency resolver does not currently take into account all the packages that are installed. This behaviour is the source of the following dependency conflicts.\n",
            "tf-keras 2.15.1 requires tensorflow<2.16,>=2.15, but you have tensorflow 2.14.1 which is incompatible.\u001b[0m\u001b[31m\n",
            "\u001b[0mRequirement already satisfied: facets-overview==1.0.0 in /usr/local/lib/python3.10/dist-packages (1.0.0)\n",
            "Requirement already satisfied: numpy>=1.16.0 in /usr/local/lib/python3.10/dist-packages (from facets-overview==1.0.0) (1.26.4)\n",
            "Requirement already satisfied: pandas>=0.22.0 in /usr/local/lib/python3.10/dist-packages (from facets-overview==1.0.0) (2.0.3)\n",
            "Requirement already satisfied: protobuf>=3.7.0 in /usr/local/lib/python3.10/dist-packages (from facets-overview==1.0.0) (3.20.3)\n",
            "Requirement already satisfied: python-dateutil>=2.8.2 in /usr/local/lib/python3.10/dist-packages (from pandas>=0.22.0->facets-overview==1.0.0) (2.8.2)\n",
            "Requirement already satisfied: pytz>=2020.1 in /usr/local/lib/python3.10/dist-packages (from pandas>=0.22.0->facets-overview==1.0.0) (2023.4)\n",
            "Requirement already satisfied: tzdata>=2022.1 in /usr/local/lib/python3.10/dist-packages (from pandas>=0.22.0->facets-overview==1.0.0) (2024.1)\n",
            "Requirement already satisfied: six>=1.5 in /usr/local/lib/python3.10/dist-packages (from python-dateutil>=2.8.2->pandas>=0.22.0->facets-overview==1.0.0) (1.16.0)\n",
            "Collecting numpy==1.24.1\n",
            "  Downloading numpy-1.24.1-cp310-cp310-manylinux_2_17_x86_64.manylinux2014_x86_64.whl (17.3 MB)\n",
            "\u001b[2K     \u001b[90m━━━━━━━━━━━━━━━━━━━━━━━━━━━━━━━━━━━━━━━━\u001b[0m \u001b[32m17.3/17.3 MB\u001b[0m \u001b[31m60.0 MB/s\u001b[0m eta \u001b[36m0:00:00\u001b[0m\n",
            "\u001b[?25hInstalling collected packages: numpy\n",
            "  Attempting uninstall: numpy\n",
            "    Found existing installation: numpy 1.26.4\n",
            "    Uninstalling numpy-1.26.4:\n",
            "      Successfully uninstalled numpy-1.26.4\n",
            "\u001b[31mERROR: pip's dependency resolver does not currently take into account all the packages that are installed. This behaviour is the source of the following dependency conflicts.\n",
            "pandas-stubs 2.0.3.230814 requires numpy>=1.25.0; python_version >= \"3.9\", but you have numpy 1.24.1 which is incompatible.\n",
            "tf-keras 2.15.1 requires tensorflow<2.16,>=2.15, but you have tensorflow 2.14.1 which is incompatible.\u001b[0m\u001b[31m\n",
            "\u001b[0mSuccessfully installed numpy-1.24.1\n"
          ]
        },
        {
          "output_type": "display_data",
          "data": {
            "application/vnd.colab-display-data+json": {
              "pip_warning": {
                "packages": [
                  "numpy"
                ]
              },
              "id": "55679222d9fe4a2a92e8aabd52e4b60e"
            }
          },
          "metadata": {}
        },
        {
          "output_type": "stream",
          "name": "stdout",
          "text": [
            "Requirement already satisfied: librosa in /usr/local/lib/python3.10/dist-packages (0.10.2.post1)\n",
            "Requirement already satisfied: audioread>=2.1.9 in /usr/local/lib/python3.10/dist-packages (from librosa) (3.0.1)\n",
            "Requirement already satisfied: numpy!=1.22.0,!=1.22.1,!=1.22.2,>=1.20.3 in /usr/local/lib/python3.10/dist-packages (from librosa) (1.24.1)\n",
            "Requirement already satisfied: scipy>=1.2.0 in /usr/local/lib/python3.10/dist-packages (from librosa) (1.11.4)\n",
            "Requirement already satisfied: scikit-learn>=0.20.0 in /usr/local/lib/python3.10/dist-packages (from librosa) (1.2.2)\n",
            "Requirement already satisfied: joblib>=0.14 in /usr/local/lib/python3.10/dist-packages (from librosa) (1.4.2)\n",
            "Requirement already satisfied: decorator>=4.3.0 in /usr/local/lib/python3.10/dist-packages (from librosa) (4.4.2)\n",
            "Requirement already satisfied: numba>=0.51.0 in /usr/local/lib/python3.10/dist-packages (from librosa) (0.58.1)\n",
            "Requirement already satisfied: soundfile>=0.12.1 in /usr/local/lib/python3.10/dist-packages (from librosa) (0.12.1)\n",
            "Requirement already satisfied: pooch>=1.1 in /usr/local/lib/python3.10/dist-packages (from librosa) (1.8.1)\n",
            "Requirement already satisfied: soxr>=0.3.2 in /usr/local/lib/python3.10/dist-packages (from librosa) (0.3.7)\n",
            "Requirement already satisfied: typing-extensions>=4.1.1 in /usr/local/lib/python3.10/dist-packages (from librosa) (4.12.1)\n",
            "Requirement already satisfied: lazy-loader>=0.1 in /usr/local/lib/python3.10/dist-packages (from librosa) (0.4)\n",
            "Requirement already satisfied: msgpack>=1.0 in /usr/local/lib/python3.10/dist-packages (from librosa) (1.0.8)\n",
            "Requirement already satisfied: packaging in /usr/local/lib/python3.10/dist-packages (from lazy-loader>=0.1->librosa) (24.0)\n",
            "Requirement already satisfied: llvmlite<0.42,>=0.41.0dev0 in /usr/local/lib/python3.10/dist-packages (from numba>=0.51.0->librosa) (0.41.1)\n",
            "Requirement already satisfied: platformdirs>=2.5.0 in /usr/local/lib/python3.10/dist-packages (from pooch>=1.1->librosa) (4.2.2)\n",
            "Requirement already satisfied: requests>=2.19.0 in /usr/local/lib/python3.10/dist-packages (from pooch>=1.1->librosa) (2.31.0)\n",
            "Requirement already satisfied: threadpoolctl>=2.0.0 in /usr/local/lib/python3.10/dist-packages (from scikit-learn>=0.20.0->librosa) (3.5.0)\n",
            "Requirement already satisfied: cffi>=1.0 in /usr/local/lib/python3.10/dist-packages (from soundfile>=0.12.1->librosa) (1.16.0)\n",
            "Requirement already satisfied: pycparser in /usr/local/lib/python3.10/dist-packages (from cffi>=1.0->soundfile>=0.12.1->librosa) (2.22)\n",
            "Requirement already satisfied: charset-normalizer<4,>=2 in /usr/local/lib/python3.10/dist-packages (from requests>=2.19.0->pooch>=1.1->librosa) (3.3.2)\n",
            "Requirement already satisfied: idna<4,>=2.5 in /usr/local/lib/python3.10/dist-packages (from requests>=2.19.0->pooch>=1.1->librosa) (3.7)\n",
            "Requirement already satisfied: urllib3<3,>=1.21.1 in /usr/local/lib/python3.10/dist-packages (from requests>=2.19.0->pooch>=1.1->librosa) (2.0.7)\n",
            "Requirement already satisfied: certifi>=2017.4.17 in /usr/local/lib/python3.10/dist-packages (from requests>=2.19.0->pooch>=1.1->librosa) (2024.6.2)\n"
          ]
        }
      ],
      "source": [
        "!pip install tensorflow==2.15 #forziamo la versione di tensorflow a 2.15, altrimenti crea problemi\n",
        "!pip install -q alibi[tensorflow]\n",
        "!pip install facets-overview==1.0.0 #libreria per avere una descrizione tabellare del dataset\n"
      ]
    },
    {
      "cell_type": "code",
      "source": [
        "!pip install numpy"
      ],
      "metadata": {
        "colab": {
          "base_uri": "https://localhost:8080/"
        },
        "id": "x2tNdpRRwlH2",
        "outputId": "6e3c5f79-b05e-492f-9e1f-3c9408de4905"
      },
      "execution_count": 68,
      "outputs": [
        {
          "output_type": "stream",
          "name": "stdout",
          "text": [
            "Requirement already satisfied: numpy in /usr/local/lib/python3.10/dist-packages (1.24.1)\n"
          ]
        }
      ]
    },
    {
      "cell_type": "code",
      "source": [
        "#importo le librerie necessarie\n",
        "import tensorflow as tf\n",
        "import os\n",
        "import pandas as pd\n",
        "import numpy as np\n",
        "import matplotlib as plt\n",
        "import IPython.display as IPD\n",
        "from google.colab import drive #libreria particolare per avere la possibilità di accedere al mio Drive da Colab\n",
        "drive.mount(\"/content/drive\")"
      ],
      "metadata": {
        "id": "7aXhcmFXMfgP",
        "colab": {
          "base_uri": "https://localhost:8080/"
        },
        "outputId": "ec444141-7197-48a6-fa4d-707dbc249c81"
      },
      "execution_count": 69,
      "outputs": [
        {
          "output_type": "stream",
          "name": "stdout",
          "text": [
            "Drive already mounted at /content/drive; to attempt to forcibly remount, call drive.mount(\"/content/drive\", force_remount=True).\n"
          ]
        }
      ]
    },
    {
      "cell_type": "code",
      "source": [
        "!cd sample_data/\n",
        "!ls"
      ],
      "metadata": {
        "id": "40NTY0eZPeUP",
        "colab": {
          "base_uri": "https://localhost:8080/"
        },
        "outputId": "33547428-3706-41d2-914f-c7a19aa94388"
      },
      "execution_count": 70,
      "outputs": [
        {
          "output_type": "stream",
          "name": "stdout",
          "text": [
            "drive  sample_data\n"
          ]
        }
      ]
    },
    {
      "cell_type": "code",
      "source": [
        "!ls drive/MyDrive/Colab\\ Notebooks/reduced_dataset/train/audio/wow #qui abbiamo un primo esempio di cosa è contenuto in una delle nostre cartelle"
      ],
      "metadata": {
        "colab": {
          "base_uri": "https://localhost:8080/"
        },
        "id": "t7cCY0aOlVjb",
        "outputId": "38534149-6771-4a93-8da2-6c0e3f8cb2f3"
      },
      "execution_count": 71,
      "outputs": [
        {
          "output_type": "stream",
          "name": "stdout",
          "text": [
            "0132a06d_nohash_0.wav  3d6bee47_nohash_1.wav  72aa7259_nohash_1.wav  b26343e9_nohash_0.wav\n",
            "01648c51_nohash_1.wav  3d9200b9_nohash_0.wav  7318280c_nohash_1.wav  b26343e9_nohash_1.wav\n",
            "016e2c6d_nohash_0.wav  3da7f617_nohash_0.wav  73af0c50_nohash_0.wav  b3bb4dd6_nohash_0.wav\n",
            "01bb6a2a_nohash_0.wav  3df9a3d4_nohash_0.wav  742d6431_nohash_0.wav  b4aa9fef_nohash_0.wav\n",
            "05cf43ef_nohash_1.wav  3ea77ede_nohash_0.wav  745a8e32_nohash_0.wav  b5552931_nohash_0.wav\n",
            "070b49af_nohash_0.wav  413bcfe1_nohash_0.wav  76424fa5_nohash_0.wav  b7669804_nohash_0.wav\n",
            "079d1020_nohash_0.wav  41dce6f5_nohash_1.wav  78622c2b_nohash_0.wav  b83c1acf_nohash_0.wav\n",
            "079dfce3_nohash_0.wav  421ed23f_nohash_0.wav  7ab5b8f7_nohash_0.wav  b8872c20_nohash_0.wav\n",
            "07c5129e_nohash_0.wav  422d3197_nohash_1.wav  7add4c5f_nohash_1.wav  b9515bf3_nohash_0.wav\n",
            "095847e4_nohash_1.wav  422f8cf1_nohash_1.wav  7bf801d1_nohash_0.wav  b959cd0c_nohash_0.wav\n",
            "099d52ad_nohash_0.wav  437455be_nohash_0.wav  7ca023e2_nohash_3.wav  bb31b82b_nohash_1.wav\n",
            "0a7c2a8d_nohash_2.wav  43b85b64_nohash_1.wav  7cb5c0b7_nohash_0.wav  bd11c654_nohash_0.wav\n",
            "0ab3b47d_nohash_1.wav  43fc47a7_nohash_0.wav  7cf14c54_nohash_0.wav  bdee441c_nohash_0.wav\n",
            "0ac15fe9_nohash_1.wav  4407ba92_nohash_0.wav  7d86b703_nohash_0.wav  be7a5b2d_nohash_0.wav\n",
            "0b40aa8e_nohash_0.wav  44bc77f7_nohash_2.wav  7de97453_nohash_0.wav  bfdb9801_nohash_0.wav\n",
            "0bde966a_nohash_0.wav  44dad20e_nohash_1.wav  7f74626f_nohash_0.wav  c0445658_nohash_0.wav\n",
            "0bde966a_nohash_1.wav  479e64cc_nohash_1.wav  80f056c0_nohash_1.wav  c0f8f4df_nohash_0.wav\n",
            "0d53e045_nohash_0.wav  47d01978_nohash_0.wav  815f0f03_nohash_0.wav  c120e80e_nohash_2.wav\n",
            "0ea0e2f4_nohash_0.wav  48a8a69d_nohash_0.wav  837f7378_nohash_1.wav  c1b7c224_nohash_0.wav\n",
            "0f250098_nohash_1.wav  493392c6_nohash_0.wav  8494fba8_nohash_0.wav  c1d39ce8_nohash_0.wav\n",
            "0f7205ef_nohash_1.wav  4abefdf5_nohash_0.wav  88e90bc1_nohash_2.wav  c1e0e8e3_nohash_0.wav\n",
            "0ff728b5_nohash_0.wav  4f8ef132_nohash_0.wav  88f8a99c_nohash_0.wav  c4533c47_nohash_1.wav\n",
            "10467b06_nohash_0.wav  4fe01997_nohash_0.wav  89865a6f_nohash_0.wav  c50225fa_nohash_2.wav\n",
            "105e72bb_nohash_0.wav  5188de0d_nohash_0.wav  89e59d18_nohash_0.wav  c53b335a_nohash_0.wav\n",
            "105e72bb_nohash_2.wav  520e8c0e_nohash_0.wav  8c3c4715_nohash_0.wav  c634a189_nohash_0.wav\n",
            "10f2bb12_nohash_0.wav  528f9242_nohash_0.wav  8d8d9855_nohash_1.wav  c6ee87a7_nohash_0.wav\n",
            "11a022ba_nohash_0.wav  533c6564_nohash_0.wav  8e05039f_nohash_0.wav  c71e3acc_nohash_0.wav\n",
            "11a022ba_nohash_1.wav  53458368_nohash_0.wav  8eb4a1bf_nohash_0.wav  c885a039_nohash_0.wav\n",
            "126403d4_nohash_1.wav  541e4079_nohash_0.wav  8fce59ff_nohash_0.wav  caa4779f_nohash_1.wav\n",
            "14775481_nohash_1.wav  57376a4c_nohash_0.wav  8fe52b97_nohash_0.wav  cb5d2c6e_nohash_0.wav\n",
            "15c371c7_nohash_0.wav  58d174ca_nohash_0.wav  8ff44869_nohash_1.wav  cc592808_nohash_3.wav\n",
            "15c371c7_nohash_1.wav  59c3a7f2_nohash_0.wav  902258bb_nohash_0.wav  cd85758f_nohash_0.wav\n",
            "15c563d7_nohash_0.wav  5ac04a92_nohash_0.wav  902258bb_nohash_1.wav  cf68fad2_nohash_0.wav\n",
            "173e6bbf_nohash_1.wav  5de8f2f0_nohash_1.wav  91223b83_nohash_1.wav  d197e3ae_nohash_0.wav\n",
            "187af8be_nohash_0.wav  5e1b34a6_nohash_1.wav  924c1a04_nohash_0.wav  d3badc9a_nohash_1.wav\n",
            "18c54a68_nohash_0.wav  5e3b7a84_nohash_0.wav  92b2bf59_nohash_2.wav  d3badc9a_nohash_2.wav\n",
            "19e98e89_nohash_0.wav  5e3b7a84_nohash_1.wav  937b433e_nohash_0.wav  d4d898d7_nohash_0.wav\n",
            "19f9c115_nohash_2.wav  617de221_nohash_0.wav  937b433e_nohash_1.wav  d53e25ba_nohash_0.wav\n",
            "1a673010_nohash_0.wav  6205088b_nohash_0.wav  9385508d_nohash_0.wav  d94eb94f_nohash_0.wav\n",
            "1afd49bf_nohash_0.wav  6205088b_nohash_1.wav  97f493b9_nohash_0.wav  d9d6559e_nohash_1.wav\n",
            "1b63157b_nohash_0.wav  62581901_nohash_0.wav  981e2a16_nohash_0.wav  da76aa58_nohash_0.wav\n",
            "1c1060b1_nohash_0.wav  6272b231_nohash_0.wav  98447c43_nohash_0.wav  da76aa58_nohash_2.wav\n",
            "1c1060b1_nohash_1.wav  627c0bec_nohash_0.wav  9a356ab9_nohash_1.wav  dabf67d9_nohash_0.wav\n",
            "1c6e5447_nohash_0.wav  637c702a_nohash_0.wav  9a3f97f8_nohash_0.wav  dc2222d7_nohash_0.wav\n",
            "1cbcc7a7_nohash_0.wav  63996b7c_nohash_1.wav  9aa21fa9_nohash_0.wav  df280250_nohash_0.wav\n",
            "1d1fe0a0_nohash_0.wav  6414258b_nohash_0.wav  9aa5439d_nohash_0.wav  e0322f2c_nohash_0.wav\n",
            "1fe4c891_nohash_0.wav  64220627_nohash_0.wav  9ab86dd0_nohash_1.wav  e07dd7d4_nohash_0.wav\n",
            "2039b9c1_nohash_0.wav  64574a99_nohash_1.wav  9beccfc8_nohash_0.wav  e14d3db8_nohash_1.wav\n",
            "21cbe292_nohash_1.wav  64da5281_nohash_0.wav  9d171fee_nohash_0.wav  e2286c18_nohash_1.wav\n",
            "2313e093_nohash_0.wav  64da5281_nohash_1.wav  9d4bab4f_nohash_0.wav  e41e41f7_nohash_0.wav\n",
            "2510c044_nohash_2.wav  653a48f5_nohash_0.wav  9e075bf1_nohash_0.wav  e4200516_nohash_0.wav\n",
            "2643992f_nohash_1.wav  65d14087_nohash_1.wav  a13e0a74_nohash_0.wav  e48a80ed_nohash_0.wav\n",
            "26b28ea7_nohash_0.wav  66041c69_nohash_0.wav  a19452d5_nohash_1.wav  e53139ad_nohash_0.wav\n",
            "28e47b1a_nohash_0.wav  67961766_nohash_0.wav  a2fefcb4_nohash_0.wav  e57abea3_nohash_1.wav\n",
            "2aec99ec_nohash_0.wav  67c7fecb_nohash_0.wav  a3255f5c_nohash_3.wav  e5d2e09d_nohash_0.wav\n",
            "2c6d3924_nohash_0.wav  6823565f_nohash_1.wav  a3502f15_nohash_0.wav  e7ebf59c_nohash_0.wav\n",
            "2d3c8dcb_nohash_0.wav  6823565f_nohash_2.wav  a5b24175_nohash_0.wav  eb6dab4a_nohash_3.wav\n",
            "311fde72_nohash_1.wav  692a88e6_nohash_0.wav  a879a2c3_nohash_1.wav  ec201020_nohash_0.wav\n",
            "31267b59_nohash_1.wav  69953f48_nohash_0.wav  a8f45bdc_nohash_0.wav  ecef25ba_nohash_0.wav\n",
            "3143fdff_nohash_0.wav  69953f48_nohash_1.wav  a9abc695_nohash_0.wav  edd8bfe3_nohash_0.wav\n",
            "32a19ecf_nohash_0.wav  6a27a9bf_nohash_0.wav  aa62fdad_nohash_0.wav  ee483d85_nohash_0.wav\n",
            "34263ab3_nohash_1.wav  6a27a9bf_nohash_1.wav  aa62fdad_nohash_1.wav  eefd26f3_nohash_0.wav\n",
            "34805883_nohash_1.wav  6a2fb9a5_nohash_0.wav  aa62fdad_nohash_2.wav  f0edc767_nohash_1.wav\n",
            "34805883_nohash_2.wav  6a700f9d_nohash_0.wav  aac5b7c1_nohash_0.wav  f192e6b4_nohash_0.wav\n",
            "34805883_nohash_3.wav  6aafb34f_nohash_0.wav  ac652c60_nohash_0.wav  f3cee168_nohash_0.wav\n",
            "34ba417a_nohash_0.wav  6add0595_nohash_0.wav  ac899eb7_nohash_1.wav  f5c3de1b_nohash_0.wav\n",
            "34e8c726_nohash_0.wav  6c429c7b_nohash_0.wav  aeb99b1c_nohash_0.wav  f7879738_nohash_0.wav\n",
            "35d1b6ee_nohash_0.wav  6e74c582_nohash_1.wav  afabfa0e_nohash_0.wav  f864cd4a_nohash_1.wav\n",
            "365531e2_nohash_0.wav  6e916de8_nohash_1.wav  afb9e62e_nohash_1.wav  f88f97a7_nohash_0.wav\n",
            "38c30a4a_nohash_0.wav  6ef76186_nohash_1.wav  b00c4c53_nohash_1.wav  f8ad3941_nohash_1.wav\n",
            "38c388bc_nohash_0.wav  6f5eea74_nohash_0.wav  b1114e4f_nohash_0.wav  f92e49f3_nohash_0.wav\n",
            "38d78313_nohash_0.wav  6f689791_nohash_0.wav  b11a05d2_nohash_0.wav  f9af823e_nohash_0.wav\n",
            "39025b21_nohash_0.wav  7117fb6d_nohash_0.wav  b15fc37d_nohash_0.wav  fac7deca_nohash_0.wav\n",
            "3903b558_nohash_1.wav  7211390b_nohash_0.wav  b1de039c_nohash_0.wav  fb24c826_nohash_0.wav\n",
            "3d6bee47_nohash_0.wav  72aa7259_nohash_0.wav  b21f0fa4_nohash_1.wav  ff63ab0b_nohash_0.wav\n"
          ]
        }
      ]
    },
    {
      "cell_type": "code",
      "source": [
        "#proviamo ad ascoltare un audio e capiamo come farlo sopratutto\n",
        "path_audio = 'drive/MyDrive/Colab Notebooks/reduced_dataset/train/audio/wow/0b40aa8e_nohash_0.wav'\n",
        "audio = IPD.Audio(path_audio, autoplay=True)\n",
        "display(audio)\n"
      ],
      "metadata": {
        "colab": {
          "base_uri": "https://localhost:8080/",
          "height": 75
        },
        "id": "iYR5UEKYm-gk",
        "outputId": "b35a34c3-a7b7-40f5-dda9-4a48fb6e4e0d"
      },
      "execution_count": 72,
      "outputs": [
        {
          "output_type": "display_data",
          "data": {
            "text/plain": [
              "<IPython.lib.display.Audio object>"
            ],
            "text/html": [
              "\n",
              "                <audio  controls=\"controls\" autoplay=\"autoplay\">\n",
              "                    <source src=\"data:audio/x-wav;base64,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\" type=\"audio/x-wav\" />\n",
              "                    Your browser does not support the audio element.\n",
              "                </audio>\n",
              "              "
            ]
          },
          "metadata": {}
        }
      ]
    },
    {
      "cell_type": "code",
      "source": [
        "!pip install seaborn"
      ],
      "metadata": {
        "colab": {
          "base_uri": "https://localhost:8080/"
        },
        "id": "XnxRnDd20MiL",
        "outputId": "88dd698a-b439-43d3-bb13-cd99f63ea785"
      },
      "execution_count": 74,
      "outputs": [
        {
          "output_type": "stream",
          "name": "stdout",
          "text": [
            "Requirement already satisfied: seaborn in /usr/local/lib/python3.10/dist-packages (0.13.1)\n",
            "Requirement already satisfied: numpy!=1.24.0,>=1.20 in /usr/local/lib/python3.10/dist-packages (from seaborn) (1.24.1)\n",
            "Requirement already satisfied: pandas>=1.2 in /usr/local/lib/python3.10/dist-packages (from seaborn) (2.0.3)\n",
            "Requirement already satisfied: matplotlib!=3.6.1,>=3.4 in /usr/local/lib/python3.10/dist-packages (from seaborn) (3.7.1)\n",
            "Requirement already satisfied: contourpy>=1.0.1 in /usr/local/lib/python3.10/dist-packages (from matplotlib!=3.6.1,>=3.4->seaborn) (1.2.1)\n",
            "Requirement already satisfied: cycler>=0.10 in /usr/local/lib/python3.10/dist-packages (from matplotlib!=3.6.1,>=3.4->seaborn) (0.12.1)\n",
            "Requirement already satisfied: fonttools>=4.22.0 in /usr/local/lib/python3.10/dist-packages (from matplotlib!=3.6.1,>=3.4->seaborn) (4.53.0)\n",
            "Requirement already satisfied: kiwisolver>=1.0.1 in /usr/local/lib/python3.10/dist-packages (from matplotlib!=3.6.1,>=3.4->seaborn) (1.4.5)\n",
            "Requirement already satisfied: packaging>=20.0 in /usr/local/lib/python3.10/dist-packages (from matplotlib!=3.6.1,>=3.4->seaborn) (24.0)\n",
            "Requirement already satisfied: pillow>=6.2.0 in /usr/local/lib/python3.10/dist-packages (from matplotlib!=3.6.1,>=3.4->seaborn) (9.4.0)\n",
            "Requirement already satisfied: pyparsing>=2.3.1 in /usr/local/lib/python3.10/dist-packages (from matplotlib!=3.6.1,>=3.4->seaborn) (3.1.2)\n",
            "Requirement already satisfied: python-dateutil>=2.7 in /usr/local/lib/python3.10/dist-packages (from matplotlib!=3.6.1,>=3.4->seaborn) (2.8.2)\n",
            "Requirement already satisfied: pytz>=2020.1 in /usr/local/lib/python3.10/dist-packages (from pandas>=1.2->seaborn) (2023.4)\n",
            "Requirement already satisfied: tzdata>=2022.1 in /usr/local/lib/python3.10/dist-packages (from pandas>=1.2->seaborn) (2024.1)\n",
            "Requirement already satisfied: six>=1.5 in /usr/local/lib/python3.10/dist-packages (from python-dateutil>=2.7->matplotlib!=3.6.1,>=3.4->seaborn) (1.16.0)\n"
          ]
        }
      ]
    },
    {
      "cell_type": "code",
      "source": [
        "\n"
      ],
      "metadata": {
        "id": "JtvW9xDDwKw2"
      },
      "execution_count": 87,
      "outputs": []
    }
  ]
}