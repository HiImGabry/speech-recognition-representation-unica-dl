{
 "cells": [
  {
   "cell_type": "code",
   "execution_count": 1,
   "id": "2ca16cd4-c4c7-4f19-8b5c-ae6a233af6b9",
   "metadata": {},
   "outputs": [],
   "source": [
    "import tensorflow as tf\n",
    "import matplotlib.pyplot as plt\n",
    "import matplotlib.patches as mpatches\n",
    "import numpy as np\n",
    "import os"
   ]
  },
  {
   "cell_type": "code",
   "execution_count": 2,
   "id": "7c586f6e-58b7-4ceb-b95a-168dca955554",
   "metadata": {},
   "outputs": [
    {
     "name": "stdout",
     "output_type": "stream",
     "text": [
      "Found 12933 files belonging to 30 classes.\n",
      "Using 7760 files for training.\n",
      "Using 5173 files for validation.\n"
     ]
    }
   ],
   "source": [
    "train_ds, validation_ds = tf.keras.utils.audio_dataset_from_directory(\n",
    "    directory='../reduced_dataset/dataset/audio',\n",
    "    validation_split=0.4, # stiamo mettendo da parte il 40% del dataset, che sarà suddiviso in validation set e test set\n",
    "    shuffle=True,\n",
    "    subset='both', # necessario se stiamo utilizzando validation_split (se no darebbe errore)\n",
    "    seed=0 # necessario se stiamo utilizzando sia shuffle che validation_split (se no darebbe errore)\n",
    ")\n",
    "\n",
    "label_names = train_ds.class_names"
   ]
  },
  {
   "cell_type": "code",
   "execution_count": 3,
   "id": "5c4142ff-53d4-4f28-8426-3af63a98f179",
   "metadata": {},
   "outputs": [],
   "source": [
    "def squeeze(audio, labels):\n",
    "    audio = tf.squeeze(audio, axis=-1)\n",
    "    return audio, labels\n",
    "\n",
    "# fonte: funzione presa dal seguente link: https://www.geeksforgeeks.org/audio-recognition-in-tensorflow/"
   ]
  },
  {
   "cell_type": "code",
   "execution_count": 4,
   "id": "2c8bac96-1ff7-49c2-b6db-50cc9e3bd84c",
   "metadata": {},
   "outputs": [
    {
     "name": "stdout",
     "output_type": "stream",
     "text": [
      "(32, 16000)\n",
      "(32,)\n"
     ]
    }
   ],
   "source": [
    "train_ds = train_ds.map(squeeze, tf.data.AUTOTUNE)\n",
    "validation_ds = validation_ds.map(squeeze, tf.data.AUTOTUNE)\n",
    "\n",
    "audio, label = next(iter(train_ds))\n",
    "print(audio.shape)\n",
    "print(label.shape)"
   ]
  },
  {
   "cell_type": "code",
   "execution_count": 5,
   "id": "fecb22c2-09bd-4e9b-bef2-3f5a53bcbdfb",
   "metadata": {},
   "outputs": [],
   "source": [
    "def get_spectrogram(waveform):\n",
    "    spectrogram = tf.signal.stft(waveform, frame_length=255, frame_step=128)\n",
    "    spectrogram = tf.abs(spectrogram)\n",
    "\n",
    "    return spectrogram[..., tf.newaxis]\n",
    "\n",
    "# fonte: funzione presa dal seguente link: https://www.geeksforgeeks.org/audio-recognition-in-tensorflow/"
   ]
  },
  {
   "cell_type": "code",
   "execution_count": 6,
   "id": "7bea3a76-bfff-472c-8804-8c839fff0a54",
   "metadata": {},
   "outputs": [],
   "source": [
    "def get_spectrogram_dataset(dataset):\n",
    "    dataset = dataset.map(lambda x, y: (get_spectrogram(x), y), num_parallel_calls=tf.data.AUTOTUNE)\n",
    "\n",
    "    return dataset\n",
    "\n",
    "# fonte: funzione presa dal seguente link: https://www.geeksforgeeks.org/audio-recognition-in-tensorflow/"
   ]
  },
  {
   "cell_type": "code",
   "execution_count": 7,
   "id": "33544370-670c-4e1a-a884-92bfa6fb2d4e",
   "metadata": {},
   "outputs": [],
   "source": [
    "train_ds = get_spectrogram_dataset(train_ds)\n",
    "validation_ds = get_spectrogram_dataset(validation_ds)\n",
    "\n",
    "val_ds = validation_ds.take(validation_ds.cardinality() // 2) # ho cambiato nome del validation_ds in modo tale da non creare problemi con l'istruzione seguente\n",
    "test_ds = validation_ds.skip(validation_ds.cardinality() // 2)"
   ]
  },
  {
   "cell_type": "code",
   "execution_count": 133,
   "id": "bd316556-2f2e-4876-aae4-355d516d983c",
   "metadata": {},
   "outputs": [
    {
     "name": "stdout",
     "output_type": "stream",
     "text": [
      "Model: \"model_62\"\n",
      "_________________________________________________________________\n",
      " Layer (type)                Output Shape              Param #   \n",
      "=================================================================\n",
      " input (InputLayer)          [(None, 124, 129, 1)]     0         \n",
      "                                                                 \n",
      " resize (Resizing)           (None, 120, 120, 1)       0         \n",
      "                                                                 \n",
      " normalization (Normalizatio  (None, 120, 120, 1)      3         \n",
      " n)                                                              \n",
      "                                                                 \n",
      " conv1 (Sequential)          (None, 120, 120, 64)      3456      \n",
      "                                                                 \n",
      " pool1 (MaxPooling2D)        (None, 60, 60, 64)        0         \n",
      "                                                                 \n",
      " conv2_3 (Sequential)        (None, 60, 60, 64)        222336    \n",
      "                                                                 \n",
      " conv3_4 (Sequential)        (None, 60, 60, 128)       1108992   \n",
      "                                                                 \n",
      " conv4_6 (Sequential)        (None, 60, 60, 256)       6792192   \n",
      "                                                                 \n",
      " conv5_3 (Sequential)        (None, 60, 60, 512)       12985344  \n",
      "                                                                 \n",
      " avg_pooling (AveragePooling  (None, 30, 30, 512)      0         \n",
      " 2D)                                                             \n",
      "                                                                 \n",
      " fc1 (Dense)                 (None, 30, 30, 11)        5643      \n",
      "                                                                 \n",
      " global_average_pooling (Glo  (None, 11)               0         \n",
      " balAveragePooling2D)                                            \n",
      "                                                                 \n",
      " fc2 (Dense)                 (None, 5994)              71928     \n",
      "                                                                 \n",
      "=================================================================\n",
      "Total params: 21,189,894\n",
      "Trainable params: 21,182,211\n",
      "Non-trainable params: 7,683\n",
      "_________________________________________________________________\n"
     ]
    }
   ],
   "source": [
    "class VoxProfunda():\n",
    "    def __init__(self):\n",
    "        self.counter = 0\n",
    "\n",
    "    def conv2D_x(self, filters, kernel_size, conv_n_layers, repeat, strides=1, padding=\"valid\", name=False):\n",
    "        self.counter += 1\n",
    "        \n",
    "        if name == False:\n",
    "            if self.counter == repeat:\n",
    "                name = \"conv\" + str(self.counter)\n",
    "            else:\n",
    "                name = \"conv\" + str(self.counter) + \"_\" + str(repeat)\n",
    "            \n",
    "        conv2D =  tf.keras.Sequential(name=name)\n",
    "    \n",
    "        for repetition in range(repeat):\n",
    "            for layer in range(conv_n_layers):\n",
    "                conv2D.add(tf.keras.layers.Conv2D(filters=filters, kernel_size=kernel_size, strides=strides, padding=padding))\n",
    "            conv2D.add(tf.keras.layers.BatchNormalization())\n",
    "            conv2D.add(tf.keras.layers.Activation(\"relu\"))\n",
    "    \n",
    "        return conv2D\n",
    "        \n",
    "    def get_model(self):\n",
    "        inputs = tf.keras.Input(shape=(124, 129, 1), name=\"input\")\n",
    "        resize = tf.keras.layers.Resizing(120, 120, name=\"resize\")(inputs)\n",
    "        normalization = tf.keras.layers.Normalization(name=\"normalization\")(resize)\n",
    "    \n",
    "        # Blocco di apprendimento delle caratteristiche\n",
    "        # conv1\n",
    "        conv1 = self.conv2D_x(filters=64, kernel_size=(7,7), conv_n_layers=1, repeat=1, padding=\"same\")(normalization)\n",
    "    \n",
    "        # pool1\n",
    "        pool1 = tf.keras.layers.MaxPooling2D(pool_size=(3,3), strides=2, padding=\"same\", name=\"pool1\")(conv1)\n",
    "    \n",
    "        # conv2_x * 3\n",
    "        conv2_3 = self.conv2D_x(filters=64, kernel_size=(3,3), conv_n_layers=2, repeat=3, padding=\"same\")(pool1)\n",
    "    \n",
    "        # conv3_x * 4\n",
    "        conv3_4 = self.conv2D_x(filters=128, kernel_size=(3,3), conv_n_layers=2, repeat=4, padding=\"same\")(conv2_3)\n",
    "    \n",
    "        # conv4_x * 6\n",
    "        conv4_6 = self.conv2D_x(filters=256, kernel_size=(3,3), conv_n_layers=2, repeat=6, padding=\"same\")(conv3_4)\n",
    "    \n",
    "        # conv4_x * 3\n",
    "        conv5_3 = self.conv2D_x(filters=512, kernel_size=(3,3), conv_n_layers=2, repeat=3, padding=\"same\")(conv4_6)\n",
    "\n",
    "        # average pooling\n",
    "        pool1 = tf.keras.layers.AveragePooling2D(pool_size=(2,2), strides=2, padding=\"same\", name=\"avg_pooling\")(conv5_3)\n",
    "        tf.keras.layers.Flatten()(pool1)\n",
    "        \n",
    "        # fc1\n",
    "        fc1 = tf.keras.layers.Dense(11, input_shape=(512,), activation=\"relu\", name=\"fc1\")(pool1)\n",
    "\n",
    "        # pool_time\n",
    "        global_average_pooling = tf.keras.layers.GlobalAveragePooling2D(name=\"global_average_pooling\")(fc1)\n",
    "        \n",
    "        outputs = tf.keras.layers.Dense(5994, activation=\"softmax\", name=\"fc2\")(global_average_pooling)\n",
    "        return tf.keras.Model(inputs=inputs, outputs=outputs)\n",
    "\n",
    "\n",
    "model = VoxProfunda()\n",
    "model = model.get_model()\n",
    "model.compile(loss=\"sparse_categorical_crossentropy\", optimizer=\"rmsprop\", metrics=[\"accuracy\"])\n",
    "model.summary()"
   ]
  },
  {
   "cell_type": "code",
   "execution_count": null,
   "id": "33947933-34c1-4b73-aad2-66944b978099",
   "metadata": {},
   "outputs": [],
   "source": []
  },
  {
   "cell_type": "code",
   "execution_count": null,
   "id": "0c65d70a-1460-42d0-bebd-0b72d598a107",
   "metadata": {},
   "outputs": [],
   "source": []
  }
 ],
 "metadata": {
  "kernelspec": {
   "display_name": "Python 3 (ipykernel)",
   "language": "python",
   "name": "python3"
  },
  "language_info": {
   "codemirror_mode": {
    "name": "ipython",
    "version": 3
   },
   "file_extension": ".py",
   "mimetype": "text/x-python",
   "name": "python",
   "nbconvert_exporter": "python",
   "pygments_lexer": "ipython3",
   "version": "3.10.14"
  }
 },
 "nbformat": 4,
 "nbformat_minor": 5
}
