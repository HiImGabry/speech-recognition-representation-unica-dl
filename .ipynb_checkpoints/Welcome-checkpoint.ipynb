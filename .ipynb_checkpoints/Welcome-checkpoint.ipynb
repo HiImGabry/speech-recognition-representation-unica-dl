{
 "cells": [
  {
   "cell_type": "markdown",
   "id": "9b61ba5b-7aa7-4750-b9fe-be77ce4503c3",
   "metadata": {},
   "source": [
    "# Indice dei Notebook\n",
    "\n",
    "## Analisi dei Dati\n",
    "\n",
    "1. [Introduzione ai dati](Riduzione_Dataset.ipynb) - Introduzione ai dati e riduzione del Dataset originale\n",
    "2. [Analisi esplorativa](Analisi_Esplorativa.ipynb) - Un'analisi esplorativa dettagliata dei dati.\n",
    "3. [Spettrogrammi](spectogram.ipynb) - Visualizzazione degli spettrogrammi di alcuni audio presenti nel dataset"
   ]
  }
 ],
 "metadata": {
  "kernelspec": {
   "display_name": "Python 3 (ipykernel)",
   "language": "python",
   "name": "python3"
  },
  "language_info": {
   "codemirror_mode": {
    "name": "ipython",
    "version": 3
   },
   "file_extension": ".py",
   "mimetype": "text/x-python",
   "name": "python",
   "nbconvert_exporter": "python",
   "pygments_lexer": "ipython3",
   "version": "3.11.7"
  },
  "widgets": {
   "application/vnd.jupyter.widget-state+json": {
    "state": {},
    "version_major": 2,
    "version_minor": 0
   }
  }
 },
 "nbformat": 4,
 "nbformat_minor": 5
}
