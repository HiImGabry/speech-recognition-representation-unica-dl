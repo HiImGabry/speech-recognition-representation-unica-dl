{
 "cells": [
  {
   "cell_type": "code",
   "execution_count": 1,
   "id": "d9cf49ca-81d5-4827-8014-31c09a51ffa2",
   "metadata": {},
   "outputs": [],
   "source": [
    "import pandas as pd\n",
    "import numpy as np\n",
    "import os, shutil, random\n",
    "from scipy import signal\n",
    "from scipy.io import wavfile\n",
    "import matplotlib.pyplot as plt\n",
    "\n",
    "# Importiamo una serie di liberie che ci serviranno durante la nostra analisi. "
   ]
  },
  {
   "cell_type": "code",
   "execution_count": 2,
   "id": "9842a36d-1206-4160-b104-6df34b609c5f",
   "metadata": {
    "scrolled": true
   },
   "outputs": [],
   "source": [
    "def wav_to_spectr(arg1):\n",
    "    dir = \"./tensorflow-speech-recognition-challenge/train/audio/\" # creiamo una variabile con il percorso del nostro dataset\n",
    "    os.chdir(dir)\n",
    "    dir_audio = arg1 # andiamo a scegliere in modo randomico una delle cartelle da dove andare a prendere il nostro sample \n",
    "    os.chdir(dir_audio) # entriamo in quella directory \n",
    "    audio = random.choice(os.listdir()) # scegliamo in modo randomico un audio all'interno della nostra cartella\n",
    "    sample_rate, samples = wavfile.read(audio) # con una funzione presente nella libreria scipy andiamo a leggere il file audio\n",
    "    frequencies, times, spectrogram = signal.spectrogram(samples, sample_rate) # con un'altra funzione di andiamo in automatico a creare lo spettrogramma\n",
    "    os.chdir(\"../../../../\") # torniamo alla libreria dove è situato il nostro file\n",
    "    return frequencies, times, spectrogram, audio, dir_audio"
   ]
  },
  {
   "cell_type": "code",
   "execution_count": 4,
   "id": "59cfdea1-3cab-4373-be45-ee28d3305561",
   "metadata": {},
   "outputs": [],
   "source": [
    "def plot_spectrograms():\n",
    "    # usiamo la funzione definita prima per andare a creare 4 spettrogrammi, 2 per label cosi da analizzare le differenze\n",
    "    frequencies_right1, times_right1, spectrogram_right1, audio_right1, dir_audio_right1 = wav_to_spectr('right') \n",
    "    frequencies_right2, times_right2, spectrogram_right2, audio_right2, dir_audio_right2 = wav_to_spectr('right')\n",
    "    frequencies_tree1, times_tree1, spectrogram_tree1, audio_tree1, dir_audio_tree1 = wav_to_spectr('tree')\n",
    "    frequencies_tree2, times_tree2, spectrogram_tree2, audio_tree2, dir_audio_tree2 = wav_to_spectr('tree')\n",
    "    \n",
    "    fig, ax = plt.subplots(2, 2, figsize=(12, 8))  # aumenta la dimensione della figura\n",
    "    fig.tight_layout(pad=3.0)  # aggiungi padding tra i subplot\n",
    "    \n",
    "    # Primo spettrogramma\n",
    "    ax[0, 0].pcolormesh(times_right1, frequencies_right1, np.log(spectrogram_right1))\n",
    "    ax[0, 0].set_ylabel('Frequency [Hz]') \n",
    "    ax[0, 0].set_xlabel('Time [sec]')\n",
    "    ax[0, 0].set_title(audio_right2 + \" dentro: \" + dir_audio_right2)\n",
    "    \n",
    "    # Secondo spettrogramma\n",
    "    ax[0, 1].pcolormesh(times_right2, frequencies_right2, np.log(spectrogram_right2))\n",
    "    ax[0, 1].set_ylabel('Frequency [Hz]') \n",
    "    ax[0, 1].set_xlabel('Time [sec]')\n",
    "    ax[0, 1].set_title(audio_right2 + \" dentro: \" + dir_audio_right2)\n",
    "    \n",
    "    # Terzo spettrogramma\n",
    "    ax[1, 0].pcolormesh(times_tree1, frequencies_tree1, np.log(spectrogram_tree1))\n",
    "    ax[1, 0].set_ylabel('Frequency [Hz]') \n",
    "    ax[1, 0].set_xlabel('Time [sec]')\n",
    "    ax[1, 0].set_title(audio_tree2 + \" dentro: \" + dir_audio_tree2)\n",
    "    \n",
    "    # Quarto spettrogramma\n",
    "    ax[1, 1].pcolormesh(times_tree2, frequencies_tree2, np.log(spectrogram_tree2))\n",
    "    ax[1, 1].set_ylabel('Frequency [Hz]') \n",
    "    ax[1, 1].set_xlabel('Time [sec]')\n",
    "    ax[1, 1].set_title(audio_tree2 + \" dentro: \" + dir_audio_tree2)\n",
    "\n",
    "    plt.show()"
   ]
  },
  {
   "cell_type": "code",
   "execution_count": null,
   "id": "cdde2357-2e19-4618-a010-9b6289766748",
   "metadata": {},
   "outputs": [],
   "source": [
    "plot_spectrograms()"
   ]
  }
 ],
 "metadata": {
  "kernelspec": {
   "display_name": "Python 3 (ipykernel)",
   "language": "python",
   "name": "python3"
  },
  "language_info": {
   "codemirror_mode": {
    "name": "ipython",
    "version": 3
   },
   "file_extension": ".py",
   "mimetype": "text/x-python",
   "name": "python",
   "nbconvert_exporter": "python",
   "pygments_lexer": "ipython3",
   "version": "3.11.7"
  }
 },
 "nbformat": 4,
 "nbformat_minor": 5
}
