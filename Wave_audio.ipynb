{
 "cells": [
  {
   "cell_type": "code",
   "execution_count": 1,
   "id": "153644f0-b73c-40b7-8171-cccaf903fe05",
   "metadata": {},
   "outputs": [],
   "source": [
    "import pandas as pd\n",
    "import numpy as np\n",
    "import os,random\n",
    "from scipy import signal\n",
    "from scipy.io import wavfile\n",
    "import matplotlib.pyplot as plt\n",
    "import wave"
   ]
  },
  {
   "cell_type": "code",
   "execution_count": null,
   "id": "a94a1990-198f-4670-a12a-40e911442742",
   "metadata": {},
   "outputs": [],
   "source": [
    "def wav_to_wave(arg1):\n",
    "    dir = \"./tensorflow-speech-recognition-challenge/train/audio/\"  # Creiamo una variabile con il percorso del nostro dataset\n",
    "    os.chdir(dir)\n",
    "    dir_audio = arg1  # Andiamo a scegliere in modo randomico una delle cartelle da dove prendere il nostro sample\n",
    "    os.chdir(dir_audio)  # Entriamo in quella directory\n",
    "    audio_file = random.choice(os.listdir())  # Scegliamo in modo randomico un audio all'interno della nostra cartella\n",
    "    audio = wave.open(audio_file, \"r\") # apriamo il file\n",
    "    # estraiamo il segnale dell'audio grezzo \n",
    "    signal = audio.readframes(-1)\n",
    "    signal = np.frombuffer(signal, dtype=np.int16)\n",
    "    os.chdir(\"../../../../\")  # Torniamo alla libreria dove è situato il nostro file\n",
    "    return signal, audio_file, dir_audio"
   ]
  },
  {
   "cell_type": "code",
   "execution_count": null,
   "id": "06056084-a33b-46ef-a110-09833f75d0f2",
   "metadata": {},
   "outputs": [],
   "source": [
    "signal, audio, dir_audio = wav_to_wave('tree')\n",
    "plt.figure(1)\n",
    "plt.title(dir_audio)\n",
    "plt.plot(signal)\n",
    "plt.show()"
   ]
  }
 ],
 "metadata": {
  "kernelspec": {
   "display_name": "Python 3 (ipykernel)",
   "language": "python",
   "name": "python3"
  },
  "language_info": {
   "codemirror_mode": {
    "name": "ipython",
    "version": 3
   },
   "file_extension": ".py",
   "mimetype": "text/x-python",
   "name": "python",
   "nbconvert_exporter": "python",
   "pygments_lexer": "ipython3",
   "version": "3.11.7"
  }
 },
 "nbformat": 4,
 "nbformat_minor": 5
}
