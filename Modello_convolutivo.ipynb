{
 "cells": [
  {
   "cell_type": "markdown",
   "id": "96c7c54c-0a56-4540-88a7-861340b0fc4e",
   "metadata": {},
   "source": [
    "# Modello convolutivo di base\n",
    "In questo notebook costruiamo un **modello convolutivo di base** così da poter avere un'idea migliore del task che stiamo approcciando. Utilizzando un modello di base riusciamo a capire soprattutto che prestazioni riusciamo a ottenere senza troppi sforzi."
   ]
  },
  {
   "cell_type": "code",
   "execution_count": null,
   "id": "3d0ad9ec-f968-4dee-b7ef-4aba3b74f396",
   "metadata": {},
   "outputs": [],
   "source": [
    "!pip install tensorflow_io"
   ]
  },
  {
   "cell_type": "code",
   "execution_count": 34,
   "id": "d649778a-9379-4ded-8188-65bd7639ed78",
   "metadata": {},
   "outputs": [],
   "source": [
    "import tensorflow as tf\n",
    "import tensorflow_io as tfio\n",
    "import matplotlib.pyplot as plt"
   ]
  },
  {
   "cell_type": "code",
   "execution_count": 93,
   "id": "dbe38373-8cc2-4813-a7c9-6bcf77dc499e",
   "metadata": {},
   "outputs": [
    {
     "name": "stdout",
     "output_type": "stream",
     "text": [
      "Found 12933 files belonging to 30 classes.\n",
      "Using 7760 files for training.\n",
      "Using 5173 files for validation.\n"
     ]
    }
   ],
   "source": [
    "train_ds, validation_ds = tf.keras.utils.audio_dataset_from_directory(\n",
    "    directory='../reduced_dataset/dataset/audio', \n",
    "    validation_split=0.4, # stiamo mettendo da parte il 40% del dataset, che sarà suddiviso in validation set e test set\n",
    "    shuffle=True, \n",
    "    subset='both', # necessario se stiamo utilizzando validation_split (se no darebbe errore)\n",
    "    seed=0 # necessario se stiamo utilizzando sia shuffle che validation_split (se no darebbe errore)\n",
    ")"
   ]
  },
  {
   "cell_type": "code",
   "execution_count": 94,
   "id": "7321ddc2-1252-4afa-9596-8fab00165855",
   "metadata": {},
   "outputs": [
    {
     "name": "stdout",
     "output_type": "stream",
     "text": [
      "Forma (shape) audio: (32, 16000, 1)\n",
      "Forma (shape) classi: (32,)\n"
     ]
    }
   ],
   "source": [
    "for audios, labels in train_ds:\n",
    "    print(\"Forma (shape) audio:\", audios.shape)\n",
    "    print(\"Forma (shape) classi:\", labels.shape)\n",
    "    break"
   ]
  },
  {
   "cell_type": "markdown",
   "id": "d611f7d2-ee72-4cbe-956f-a440d96b4bf4",
   "metadata": {},
   "source": [
    "Possiamo notare che lo shape dell'audio corrisponde a (32, 16000, 1), questo vuol dire che ogni \"audio\" che stiamo stampando in realtà è un batch da 32 tensori di lunghezza 16000 unidimensionali. Ovviamente anche lo shape delle classi sarà 32 visto e considerata la presenza di 32 tensori per iterazione. Abbiamo perciò capito che il nostro dataset è suddiviso in batch da 32 di grandezza, questo perché di defau"
   ]
  },
  {
   "cell_type": "code",
   "execution_count": 87,
   "id": "7b88665a-9de1-451b-9556-4753b4e90ea1",
   "metadata": {},
   "outputs": [],
   "source": [
    "def squeeze(audio, labels): \n",
    "    audio = tf.squeeze(audio, axis=-1) \n",
    "    return audio, labels \n",
    "  \n",
    "train_ds = train_ds.map(squeeze, tf.data.AUTOTUNE) \n",
    "validation_ds = validation_ds.map(squeeze, tf.data.AUTOTUNE)\n",
    "\n",
    "# fonte: funzione presa dal seguente link: https://www.geeksforgeeks.org/audio-recognition-in-tensorflow/"
   ]
  },
  {
   "cell_type": "code",
   "execution_count": null,
   "id": "60678f4c-ac40-4ffe-8b5c-d0a2b1fc8053",
   "metadata": {},
   "outputs": [],
   "source": [
    "def get_spectrogram(waveform): \n",
    "    spectrogram = tf.signal.stft(waveform, frame_length=255, frame_step=128) \n",
    "    spectrogram = tf.abs(spectrogram) \n",
    "    \n",
    "    return spectrogram[..., tf.newaxis] \n",
    "\n",
    "# fonte: funzione presa dal seguente link: https://www.geeksforgeeks.org/audio-recognition-in-tensorflow/"
   ]
  },
  {
   "cell_type": "code",
   "execution_count": 86,
   "id": "164aa4a3-b1ec-4bc6-9471-a2159ff787de",
   "metadata": {},
   "outputs": [],
   "source": [
    "def get_spectrogram_dataset(dataset):\n",
    "    dataset = dataset.map(lambda x, y: (get_spectrogram(x), y), num_parallel_calls=tf.data.AUTOTUNE)\n",
    "\n",
    "    return dataset\n",
    "\n",
    "# fonte: funzione presa dal seguente link: https://www.geeksforgeeks.org/audio-recognition-in-tensorflow/"
   ]
  },
  {
   "cell_type": "code",
   "execution_count": null,
   "id": "dc45c0ce-4245-4a1e-abc5-10469e0b6e3d",
   "metadata": {},
   "outputs": [],
   "source": []
  }
 ],
 "metadata": {
  "kernelspec": {
   "display_name": "Python 3 (ipykernel)",
   "language": "python",
   "name": "python3"
  },
  "language_info": {
   "codemirror_mode": {
    "name": "ipython",
    "version": 3
   },
   "file_extension": ".py",
   "mimetype": "text/x-python",
   "name": "python",
   "nbconvert_exporter": "python",
   "pygments_lexer": "ipython3",
   "version": "3.11.9"
  }
 },
 "nbformat": 4,
 "nbformat_minor": 5
}
