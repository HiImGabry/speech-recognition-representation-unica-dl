{
 "cells": [
  {
   "cell_type": "markdown",
   "id": "96c7c54c-0a56-4540-88a7-861340b0fc4e",
   "metadata": {},
   "source": [
    "# Modello convolutivo di base\n",
    "In questo notebook costruiamo un **modello convolutivo di base** così da poter avere un'idea migliore del task che stiamo approcciando. Utilizzando un modello di base riusciamo a capire soprattutto che prestazioni riusciamo a ottenere senza troppi sforzi."
   ]
  },
  {
   "cell_type": "code",
   "execution_count": 6,
   "id": "d649778a-9379-4ded-8188-65bd7639ed78",
   "metadata": {},
   "outputs": [],
   "source": [
    "import tensorflow as tf"
   ]
  },
  {
   "cell_type": "code",
   "execution_count": 7,
   "id": "dbe38373-8cc2-4813-a7c9-6bcf77dc499e",
   "metadata": {},
   "outputs": [
    {
     "name": "stdout",
     "output_type": "stream",
     "text": [
      "Found 12933 files belonging to 30 classes.\n"
     ]
    }
   ],
   "source": [
    "train_ds = tf.keras.utils.audio_dataset_from_directory(directory='../reduced_dataset/dataset/audio')"
   ]
  },
  {
   "cell_type": "code",
   "execution_count": null,
   "id": "164aa4a3-b1ec-4bc6-9471-a2159ff787de",
   "metadata": {},
   "outputs": [],
   "source": []
  }
 ],
 "metadata": {
  "kernelspec": {
   "display_name": "Python 3 (ipykernel)",
   "language": "python",
   "name": "python3"
  },
  "language_info": {
   "codemirror_mode": {
    "name": "ipython",
    "version": 3
   },
   "file_extension": ".py",
   "mimetype": "text/x-python",
   "name": "python",
   "nbconvert_exporter": "python",
   "pygments_lexer": "ipython3",
   "version": "3.11.9"
  }
 },
 "nbformat": 4,
 "nbformat_minor": 5
}
